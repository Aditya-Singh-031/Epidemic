{
 "cells": [
  {
   "cell_type": "markdown",
   "metadata": {},
   "source": [
    "## **PLAYER DATA**"
   ]
  },
  {
   "cell_type": "markdown",
   "metadata": {},
   "source": [
    "### **DEPENDENCIES**"
   ]
  },
  {
   "cell_type": "code",
   "execution_count": 2,
   "metadata": {},
   "outputs": [],
   "source": [
    "import src.mirage.frameworks.epidemics as mre"
   ]
  },
  {
   "cell_type": "code",
   "execution_count": null,
   "metadata": {},
   "outputs": [],
   "source": [
    "countries, core_processes, epidemic_two_engine, tboard = (\n",
    "    mre.presets.preset_kbg_epidemic_2_0(\n",
    "        player_name=\"Aditya\",\n",
    "        log_dir=\"_logs\",\n",
    "    )\n",
    ")"
   ]
  },
  {
   "cell_type": "markdown",
   "metadata": {},
   "source": [
    "### **🔥 RUN >>>**"
   ]
  },
  {
   "cell_type": "code",
   "execution_count": 7,
   "metadata": {},
   "outputs": [
    {
     "name": "stderr",
     "output_type": "stream",
     "text": [
      "2024-04-19 01:54:06 - V1 | FireflyV1 | epidemic-two-BABA_BLACK_SHEEP - INFO -  >> 🔥 Firing...\n",
      "2024-04-19 01:54:06 - V1 | FireflyV1 | epidemic-two-BABA_BLACK_SHEEP - INFO -  >> ▶️ Playing...\n",
      "2024-04-19 01:54:12 - V1 | FireflyV1 | epidemic-two-BABA_BLACK_SHEEP - INFO - 📈 Tensorboard URL: http://Meghnad:6008/ http://192.168.179.44:6008/\n"
     ]
    },
    {
     "name": "stderr",
     "output_type": "stream",
     "text": [
      "2024-04-19 04:48:34 - V1 | FireflyV1 | epidemic-two-BABA_BLACK_SHEEP - INFO -  >> ⏹️ Stopping...\n"
     ]
    }
   ],
   "source": [
    "epidemic_two_engine.fire(N_STEPS)\n",
    "tboard_logger.start_server()"
   ]
  },
  {
   "cell_type": "markdown",
   "metadata": {},
   "source": [
    "### **UPDATE | process status chart**"
   ]
  },
  {
   "cell_type": "markdown",
   "metadata": {},
   "source": [
    "### **UPDATE | Intervene**"
   ]
  },
  {
   "cell_type": "code",
   "execution_count": 2,
   "metadata": {},
   "outputs": [
    {
     "ename": "StopIteration",
     "evalue": "",
     "output_type": "error",
     "traceback": [
      "\u001b[1;31m---------------------------------------------------------------------------\u001b[0m",
      "\u001b[1;31mStopIteration\u001b[0m                             Traceback (most recent call last)",
      "Cell \u001b[1;32mIn[2], line 1\u001b[0m\n\u001b[1;32m----> 1\u001b[0m \u001b[38;5;28;43mnext\u001b[39;49m\u001b[43m(\u001b[49m\u001b[43mp\u001b[49m\u001b[43m \u001b[49m\u001b[38;5;28;43;01mfor\u001b[39;49;00m\u001b[43m \u001b[49m\u001b[43mp\u001b[49m\u001b[43m \u001b[49m\u001b[38;5;129;43;01min\u001b[39;49;00m\u001b[43m \u001b[49m\u001b[43m[\u001b[49m\u001b[38;5;241;43m1\u001b[39;49m\u001b[43m,\u001b[49m\u001b[43m \u001b[49m\u001b[38;5;241;43m3\u001b[39;49m\u001b[43m,\u001b[49m\u001b[43m \u001b[49m\u001b[38;5;241;43m4\u001b[39;49m\u001b[43m]\u001b[49m\u001b[43m \u001b[49m\u001b[38;5;28;43;01mif\u001b[39;49;00m\u001b[43m \u001b[49m\u001b[43mp\u001b[49m\u001b[43m \u001b[49m\u001b[38;5;241;43m==\u001b[39;49m\u001b[43m \u001b[49m\u001b[38;5;241;43m5\u001b[39;49m\u001b[43m)\u001b[49m\n",
      "\u001b[1;31mStopIteration\u001b[0m: "
     ]
    }
   ],
   "source": [
    "next(p for p in [1, 3, 4] if p == 5)"
   ]
  },
  {
   "cell_type": "code",
   "execution_count": 9,
   "metadata": {},
   "outputs": [
    {
     "data": {
      "text/plain": [
       "{4}"
      ]
     },
     "execution_count": 9,
     "metadata": {},
     "output_type": "execute_result"
    }
   ],
   "source": [
    "set().union(\n",
    "    *(\n",
    "        set(range(*interval))\n",
    "        for interval in [\n",
    "            [\n",
    "                4,\n",
    "            ]\n",
    "        ]\n",
    "    )\n",
    ")"
   ]
  },
  {
   "cell_type": "code",
   "execution_count": 11,
   "metadata": {},
   "outputs": [
    {
     "ename": "IndexError",
     "evalue": "list index out of range",
     "output_type": "error",
     "traceback": [
      "\u001b[1;31m---------------------------------------------------------------------------\u001b[0m",
      "\u001b[1;31mIndexError\u001b[0m                                Traceback (most recent call last)",
      "Cell \u001b[1;32mIn[11], line 25\u001b[0m\n\u001b[0;32m     22\u001b[0m     intervals\u001b[38;5;241m.\u001b[39mappend([start, s[\u001b[38;5;241m-\u001b[39m\u001b[38;5;241m1\u001b[39m]])\n\u001b[0;32m     23\u001b[0m     \u001b[38;5;28;01mreturn\u001b[39;00m intervals\n\u001b[1;32m---> 25\u001b[0m \u001b[43mset_to_intervals\u001b[49m\u001b[43m(\u001b[49m\u001b[43m{\u001b[49m\u001b[43m}\u001b[49m\u001b[43m)\u001b[49m\n",
      "Cell \u001b[1;32mIn[11], line 17\u001b[0m, in \u001b[0;36mset_to_intervals\u001b[1;34m(s)\u001b[0m\n\u001b[0;32m     15\u001b[0m s \u001b[38;5;241m=\u001b[39m \u001b[38;5;28msorted\u001b[39m(s)\n\u001b[0;32m     16\u001b[0m intervals \u001b[38;5;241m=\u001b[39m []\n\u001b[1;32m---> 17\u001b[0m start \u001b[38;5;241m=\u001b[39m \u001b[43ms\u001b[49m\u001b[43m[\u001b[49m\u001b[38;5;241;43m0\u001b[39;49m\u001b[43m]\u001b[49m\n\u001b[0;32m     18\u001b[0m \u001b[38;5;28;01mfor\u001b[39;00m i \u001b[38;5;129;01min\u001b[39;00m \u001b[38;5;28mrange\u001b[39m(\u001b[38;5;241m1\u001b[39m, \u001b[38;5;28mlen\u001b[39m(s)):\n\u001b[0;32m     19\u001b[0m     \u001b[38;5;28;01mif\u001b[39;00m s[i] \u001b[38;5;241m-\u001b[39m s[i \u001b[38;5;241m-\u001b[39m \u001b[38;5;241m1\u001b[39m] \u001b[38;5;241m>\u001b[39m \u001b[38;5;241m1\u001b[39m:\n",
      "\u001b[1;31mIndexError\u001b[0m: list index out of range"
     ]
    }
   ],
   "source": [
    "def set_to_intervals(s):\n",
    "    \"\"\"\n",
    "    Convert a set of integers to a list of intervals.\n",
    "\n",
    "    Parameters:\n",
    "    -----------\n",
    "    s: Set[int]\n",
    "        The set of integers.\n",
    "\n",
    "    Returns:\n",
    "    --------\n",
    "    List[List[int]]\n",
    "        The list of intervals.\n",
    "    \"\"\"\n",
    "    s = sorted(s)\n",
    "    intervals = []\n",
    "    start = s[0]\n",
    "    for i in range(1, len(s)):\n",
    "        if s[i] - s[i - 1] > 1:\n",
    "            intervals.append([start, s[i - 1]])\n",
    "            start = s[i]\n",
    "    intervals.append([start, s[-1]])\n",
    "    return intervals\n",
    "\n",
    "\n",
    "set_to_intervals({})"
   ]
  },
  {
   "cell_type": "code",
   "execution_count": 34,
   "metadata": {},
   "outputs": [
    {
     "name": "stdout",
     "output_type": "stream",
     "text": [
      "2 3 5 2\n"
     ]
    }
   ],
   "source": [
    "class ExProcess(mr.processes.ProcessV1):\n",
    "    RANK = 1\n",
    "    DOMAIN = (mrfe.gpe.Country,)\n",
    "\n",
    "    def __init__(self, id, entities, status, ex1, ex2, ex3, ex4=8):\n",
    "        self.ex1 = ex1\n",
    "        self.ex2 = ex2\n",
    "        self.ex3 = ex3\n",
    "        self.ex4 = ex4\n",
    "\n",
    "    def while_alive(self, step):\n",
    "        pass\n",
    "\n",
    "\n",
    "exp = ExProcess(\"ex\", ENT, \"ALIVE\", 2, 3, ex4=2, ex3=5)\n",
    "print(exp.ex1, exp.ex2, exp.ex3, exp.ex4)"
   ]
  },
  {
   "cell_type": "code",
   "execution_count": 36,
   "metadata": {},
   "outputs": [
    {
     "name": "stdout",
     "output_type": "stream",
     "text": [
      "hello\n"
     ]
    }
   ],
   "source": [
    "def temp():\n",
    "    print(\"hello\")\n",
    "\n",
    "\n",
    "exp.te = temp\n",
    "exp.te()"
   ]
  }
 ],
 "metadata": {
  "kernelspec": {
   "display_name": "base",
   "language": "python",
   "name": "python3"
  },
  "language_info": {
   "codemirror_mode": {
    "name": "ipython",
    "version": 3
   },
   "file_extension": ".py",
   "mimetype": "text/x-python",
   "name": "python",
   "nbconvert_exporter": "python",
   "pygments_lexer": "ipython3",
   "version": "3.12.2"
  }
 },
 "nbformat": 4,
 "nbformat_minor": 2
}
