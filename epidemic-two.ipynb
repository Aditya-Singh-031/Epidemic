{
 "cells": [
  {
   "cell_type": "markdown",
   "metadata": {},
   "source": [
    "## **PLAYER DATA**"
   ]
  },
  {
   "cell_type": "code",
   "execution_count": 1,
   "metadata": {},
   "outputs": [],
   "source": [
    "PLAYER_NAME = \"BABA_BLACK_SHEEP\"\n",
    "TBOARD_LDIR = \"_logs\"\n",
    "EXPERIMENTN = 0\n",
    "N_STEPS = 365 * 2  # 2 years"
   ]
  },
  {
   "cell_type": "markdown",
   "metadata": {},
   "source": [
    "### **DEPENDENCIES**"
   ]
  },
  {
   "cell_type": "code",
   "execution_count": 2,
   "metadata": {},
   "outputs": [],
   "source": [
    "import os\n",
    "import yaml\n",
    "import src.mirage as mr\n",
    "\n",
    "mrfe = mr.frameworks.epidemics"
   ]
  },
  {
   "cell_type": "markdown",
   "metadata": {},
   "source": [
    "### **ENTITIES**"
   ]
  },
  {
   "cell_type": "code",
   "execution_count": 3,
   "metadata": {},
   "outputs": [],
   "source": [
    "base_dir = os.getcwd()\n",
    "relative_path = \"configs/simulations/epidemics/countries/\"\n",
    "base_path = os.path.join(base_dir, relative_path)\n",
    "fnames = [\"china.yaml\", \"india.yaml\", \"france.yaml\", \"japan.yaml\", \"usa.yaml\"]\n",
    "file_paths = [os.path.join(base_path, file_name) for file_name in fnames]\n",
    "ENT = {}\n",
    "for file_path in file_paths:\n",
    "    with open(file_path, \"r\") as file:\n",
    "        data = yaml.load(file, Loader=yaml.FullLoader)\n",
    "        ENT[data[\"name\"]] = mrfe.gpe.Country(**data)"
   ]
  },
  {
   "cell_type": "markdown",
   "metadata": {},
   "source": [
    "### **PERMANENT - PROCESSES**"
   ]
  },
  {
   "cell_type": "code",
   "execution_count": 4,
   "metadata": {},
   "outputs": [],
   "source": [
    "processes = {\n",
    "    \"birth_process\": mrfe.all_processes.BirthProcess,\n",
    "    \"eco_spot\": mrfe.all_processes.EcoSpotContinous,\n",
    "    \"increase_e\": mrfe.all_processes.IncreaseEProcess,\n",
    "    \"increase_dr\": mrfe.all_processes.IncreaseDrProcess,\n",
    "    \"increase_di\": mrfe.all_processes.IncreaseDiProcess,\n",
    "    \"increase_ds\": mrfe.all_processes.IncreaseDsProcess,\n",
    "    \"tourist\": mrfe.all_processes.TouristContinous,\n",
    "    \"airport\": mrfe.all_processes.AirPortContinousProcess,\n",
    "    \"port\": mrfe.all_processes.PortContinousProcess,\n",
    "    \"disease_spread\": mrfe.all_processes.DiseaseSpreadProcess,\n",
    "}\n",
    "\n",
    "process_objects = {}\n",
    "\n",
    "for process_name, process_class in processes.items():\n",
    "    process_objects[process_name] = process_class(\n",
    "        process_name,\n",
    "        ENT,\n",
    "        \"ALIVE\",\n",
    "    )"
   ]
  },
  {
   "cell_type": "markdown",
   "metadata": {},
   "source": [
    "### **ENGINE INIT**"
   ]
  },
  {
   "cell_type": "code",
   "execution_count": 5,
   "metadata": {},
   "outputs": [
    {
     "name": "stderr",
     "output_type": "stream",
     "text": [
      "2024-04-19 00:39:51 - V1 | FireflyV1 | epidemic-two-BABA_BLACK_SHEEP - INFO -  >> 🚀 Initialized.\n"
     ]
    }
   ],
   "source": [
    "epidemic_two_engine = mr.engines.firefly.FireflyV1(\n",
    "    f\"epidemic-two-{PLAYER_NAME}\",\n",
    "    mr.engines.firefly.FireflyV1State(baba_black_sheep=\"here\"),\n",
    "    list(process_objects.values()),\n",
    "    list(ENT.values()),\n",
    "    7,\n",
    "    7,\n",
    "    None,\n",
    "    \"baba_black_sheep\",\n",
    ")"
   ]
  },
  {
   "cell_type": "markdown",
   "metadata": {},
   "source": [
    "### **PLOT REGISTRATION**"
   ]
  },
  {
   "cell_type": "code",
   "execution_count": 6,
   "metadata": {},
   "outputs": [],
   "source": [
    "tboard_logger = mr.monitors.loggers.tbx_loggers.TbxTimeseriesLoggerV1(\n",
    "    epidemic_two_engine,\n",
    "    f\"{TBOARD_LDIR}/experiment-{EXPERIMENTN}\",\n",
    "    \"local\",\n",
    ")\n",
    "# Dict[str, Tuple[str, Any | List[Tuple[Any, str]]]]\n",
    "gdp_config = {\n",
    "    \"nation_gdp\": (\"gdp\", [(country, country.name) for country in ENT.values()])\n",
    "}\n",
    "health_resources_config = {\n",
    "    \"health_resource_stockpile\": (\n",
    "        \"health_resource_stockpile\",\n",
    "        [(country, country.name) for country in ENT.values()],\n",
    "    )\n",
    "}\n",
    "sanitation_equipment_config = {\n",
    "    \"sanitation_equipment_stockpile\": (\n",
    "        \"sanitation_equipment_stockpile\",\n",
    "        [(country, country.name) for country in ENT.values()],\n",
    "    )\n",
    "}\n",
    "human_welfare_config = {\n",
    "    \"human_welfare_resource\": (\n",
    "        \"human_welfare_resource\",\n",
    "        [(country, country.name) for country in ENT.values()],\n",
    "    )\n",
    "}\n",
    "for config in [\n",
    "    gdp_config,\n",
    "    health_resources_config,\n",
    "    sanitation_equipment_config,\n",
    "    human_welfare_config,\n",
    "]:\n",
    "    tboard_logger.register_objects(config)\n",
    "\n",
    "for country, cobj in ENT.items():\n",
    "    loci_susceptible_config = {\n",
    "        f\"{country}/loci_susceptible\": (\n",
    "            \"susceptible\",\n",
    "            [(locus, f\"{locus.name}\") for locus in cobj.loci],\n",
    "        )\n",
    "    }\n",
    "    loci_infected_config = {\n",
    "        f\"{country}/loci_infected\": (\n",
    "            \"infected\",\n",
    "            [(locus, f\"{locus.name}\") for locus in cobj.loci],\n",
    "        )\n",
    "    }\n",
    "    loci_recovered_config = {\n",
    "        f\"{country}/loci_recovered\": (\n",
    "            \"recovered\",\n",
    "            [(locus, f\"{locus.name}\") for locus in cobj.loci],\n",
    "        )\n",
    "    }\n",
    "    tboard_logger.register_objects(loci_susceptible_config)\n",
    "    tboard_logger.register_objects(loci_infected_config)\n",
    "    tboard_logger.register_objects(loci_recovered_config)"
   ]
  },
  {
   "cell_type": "markdown",
   "metadata": {},
   "source": [
    "### **🔥 RUN >>>**"
   ]
  },
  {
   "cell_type": "code",
   "execution_count": 7,
   "metadata": {},
   "outputs": [
    {
     "name": "stderr",
     "output_type": "stream",
     "text": [
      "2024-04-19 00:39:57 - V1 | FireflyV1 | epidemic-two-BABA_BLACK_SHEEP - INFO -  >> 🔥 Firing...\n",
      "2024-04-19 00:39:57 - V1 | FireflyV1 | epidemic-two-BABA_BLACK_SHEEP - INFO -  >> ▶️ Playing...\n",
      "2024-04-19 00:40:02 - V1 | FireflyV1 | epidemic-two-BABA_BLACK_SHEEP - INFO - 📈 Tensorboard URL: http://Meghnad:6008/ http://192.168.179.44:6008/\n"
     ]
    }
   ],
   "source": [
    "epidemic_two_engine.fire(N_STEPS)\n",
    "tboard_logger.start_server()"
   ]
  },
  {
   "cell_type": "markdown",
   "metadata": {},
   "source": [
    "### **UPDATE | process status chart**"
   ]
  },
  {
   "cell_type": "code",
   "execution_count": 8,
   "metadata": {},
   "outputs": [
    {
     "data": {
      "text/plain": [
       "2"
      ]
     },
     "execution_count": 8,
     "metadata": {},
     "output_type": "execute_result"
    }
   ],
   "source": []
  },
  {
   "cell_type": "markdown",
   "metadata": {},
   "source": [
    "### **UPDATE | Intervene**"
   ]
  },
  {
   "cell_type": "code",
   "execution_count": null,
   "metadata": {},
   "outputs": [],
   "source": []
  }
 ],
 "metadata": {
  "kernelspec": {
   "display_name": "base",
   "language": "python",
   "name": "python3"
  },
  "language_info": {
   "codemirror_mode": {
    "name": "ipython",
    "version": 3
   },
   "file_extension": ".py",
   "mimetype": "text/x-python",
   "name": "python",
   "nbconvert_exporter": "python",
   "pygments_lexer": "ipython3",
   "version": "3.12.2"
  }
 },
 "nbformat": 4,
 "nbformat_minor": 2
}
