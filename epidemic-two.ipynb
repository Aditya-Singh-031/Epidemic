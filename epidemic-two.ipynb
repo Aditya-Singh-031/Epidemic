{
 "cells": [
  {
   "cell_type": "markdown",
   "metadata": {},
   "source": [
    "### **🤖 PLAYER DATA**  \n",
    "- Please assign your name and enrollment number to `NAME`.\n",
    "  ```python\n",
    "  NAME = \"ADITYA_PRAKASH_B20001\"\n",
    "  ```\n",
    "- A new experiment will be created in `LOG_DIRECTORY` each time the presets are called. You may need to restart the runtime to delete an experiment."
   ]
  },
  {
   "cell_type": "code",
   "execution_count": 3,
   "metadata": {},
   "outputs": [],
   "source": [
    "NAME = \"ADITYA_PRAKASH_B20001\"\n",
    "LOG_DIRECTORY = None"
   ]
  },
  {
   "cell_type": "markdown",
   "metadata": {},
   "source": [
    "### **📃 DEPENDENCIES**"
   ]
  },
  {
   "cell_type": "code",
   "execution_count": 1,
   "metadata": {},
   "outputs": [],
   "source": [
    "import pprint\n",
    "import src.mirage.frameworks.epidemics as mre\n",
    "\n",
    "pp = pprint.PrettyPrinter(indent=4)"
   ]
  },
  {
   "cell_type": "code",
   "execution_count": 2,
   "metadata": {},
   "outputs": [
    {
     "name": "stderr",
     "output_type": "stream",
     "text": [
      "2024-04-20 01:13:54 - V1 | FireflyV1 | EPIDEMIC2.0_Aditya - INFO -  >> 🚀 Initialized.\n",
      "2024-04-20 01:13:59 - V1 | FireflyV1 | EPIDEMIC2.0_Aditya - INFO -  📈 Tensorboard URL: http://Meghnad:6006/ http://192.168.179.44:6006/\n"
     ]
    }
   ],
   "source": [
    "countries, core_processes, epidemic_two_engine, tboard = (\n",
    "    mre.presets.preset_kbg_epidemic_2_0(\n",
    "        player_name=NAME,\n",
    "        engine_speed=7,\n",
    "        log_dir=LOG_DIRECTORY,\n",
    "    )\n",
    ")"
   ]
  },
  {
   "cell_type": "markdown",
   "metadata": {},
   "source": [
    "### **🔥 FIRE**\n",
    "- `N_STEPS` is the number of steps the engine runs for. One step roughly corresponds to a single day in real time although the simulation might progress too slowly in this regime because we did not have time to properly snap a 2 year epidemic trajectory onto 365 * 2 steps in terms of various constants and parameters.\n",
    "- To account for the above issue, let's agree on **<span style=\"color:red;\">6000</span>** as the standard value for `N_STEPS` for the purpose of this experiment. You may have it less than it but not more. \n",
    "- The engine will step through the simulation at `epidemic_two_engine.speed` steps per minute. The default is **<span style=\"color:orange;\">7</span>**. If at any point you feel like the simulation is progessing too slowly you can always assign a higher value to `epidemic_two_engine.speed` to speed things up. If you feel like you don't require a lot of changes or require time to implement a lot of interventions at any step or just want to see the effects of your interventions after logging them in , just speed things up for a bit 🚀."
   ]
  },
  {
   "cell_type": "code",
   "execution_count": null,
   "metadata": {},
   "outputs": [],
   "source": [
    "N_STEPS = 365 * 2\n",
    "epidemic_two_engine.fire(N_STEPS)"
   ]
  },
  {
   "cell_type": "markdown",
   "metadata": {},
   "source": [
    "### **🎛️ ▶️⏸️⏹️**\n",
    "The engine can be controlled using this control panel. You can play, pause, stop and change the speed of the engine using the widget provided below."
   ]
  },
  {
   "cell_type": "code",
   "execution_count": null,
   "metadata": {},
   "outputs": [],
   "source": [
    "epidemic_two_engine.dynamics_control_panel()"
   ]
  },
  {
   "cell_type": "markdown",
   "metadata": {},
   "source": [
    "### **📈 PROCESS STATUS CHART**\n",
    "Process status chart will display the steps when the processes will be **<span style=\"color:lightgreen;\">ALIVE</span>** as a list of closed intervals. \n",
    "```python\n",
    "{\n",
    "    \"process-x\": [[start1, end1], [start2, end2], ...],\n",
    "    \"process-y\": [[start1, end1], [start2, end2], ...],\n",
    "}\n",
    "```\n",
    "You can time your interventions accordingly. The process status chart can also be updated in real-time for your interventions.\n",
    "\n",
    "⚠️ **<span style=\"color:red;\">NOTE</span>** : Do not tamper with this variable directly."
   ]
  },
  {
   "cell_type": "markdown",
   "metadata": {},
   "source": [
    "Run the following cell to view process status chart. `PROCESS_IDS` can be a **<span style=\"color:lightblue;\">list</span>** of process ids for which you want to see the process status chart or a **<span style=\"color:lightgreen;\">str</span>**. If you want to see the process status chart for all the processes, you can assign **<span style=\"color:purple;\">None</span>** to `PROCESS_IDS`. \n",
    "```python\n",
    "# Usage 1\n",
    "PROCESS_IDS = None\n",
    "# Usage 2\n",
    "PROCESS_IDS = \"process-x\"\n",
    "# Usage 3\n",
    "PROCESS_IDS = [\"process-x\", \"process-y\"]\n",
    "```"
   ]
  },
  {
   "cell_type": "code",
   "execution_count": null,
   "metadata": {},
   "outputs": [],
   "source": [
    "PROCESS_IDS = ...\n",
    "pp.pprint(epidemic_two_engine.filter_pr_stat_chart())"
   ]
  },
  {
   "cell_type": "markdown",
   "metadata": {},
   "source": [
    "Run the following cell to list all the processes that are registered on the engine."
   ]
  },
  {
   "cell_type": "code",
   "execution_count": null,
   "metadata": {},
   "outputs": [],
   "source": [
    "pp.print(epidemic_two_engine.list_processes())"
   ]
  },
  {
   "cell_type": "markdown",
   "metadata": {},
   "source": [
    "To update the process status chart for a particular process, you can run the following cell. \n",
    "```python\n",
    "PROCESS_ID = \"process-x\"\n",
    "# Intervals 1\n",
    "INTERVALS = [[start1, end1], [start2, end2], ...]\n",
    "# Intervals 2\n",
    "INTERVALS = [start1, end1]\n",
    "# Intervals 3\n",
    "INTERVALS = {alive1, alive2, ...}\n",
    "MODE = \"ALIVE\"\n",
    "```\n",
    "`INTERVALS` can be a list of closed intervals, a closed interval or a set of steps which we want to change. `MODE` can be **<span style=\"color:lightgreen;\">ALIVE</span>** or **<span style=\"color:orange;\">DORMANT</span>**, depending on whether you want the process to be alive or dormant in the given intervals."
   ]
  },
  {
   "cell_type": "code",
   "execution_count": null,
   "metadata": {},
   "outputs": [],
   "source": [
    "PROCESS_ID = ...\n",
    "INTERVALS = ...\n",
    "MODE = ...\n",
    "epidemic_two_engine.update_psc(PROCESS_ID, INTERVALS, MODE)"
   ]
  },
  {
   "cell_type": "markdown",
   "metadata": {},
   "source": [
    "### **💀 KILL PROCESS**\n",
    "Run the following cell with Process ID of whichever process you want to kill."
   ]
  },
  {
   "cell_type": "code",
   "execution_count": null,
   "metadata": {},
   "outputs": [],
   "source": [
    "PROCESS_ID = ...\n",
    "epidemic_two_engine.kill_process(PROCESS_ID)"
   ]
  },
  {
   "cell_type": "markdown",
   "metadata": {},
   "source": [
    "### **🗺️ COUNTRIES**\n",
    "To view the schema of a country run the following cell.\n",
    "Available countries are : India, China, France, Japan, USA"
   ]
  },
  {
   "cell_type": "code",
   "execution_count": null,
   "metadata": {},
   "outputs": [],
   "source": [
    "COUNTRY = ...\n",
    "pp.pprint(countries[COUNTRY])"
   ]
  },
  {
   "cell_type": "markdown",
   "metadata": {},
   "source": [
    "### **💉 INTERVENTIONS**"
   ]
  },
  {
   "cell_type": "markdown",
   "metadata": {},
   "source": [
    "#### **😷 Mask Intervention**  \n",
    "\n",
    "The following cell will implement the Mask Intervention 😷. It will mask a ratio of people from various loci and incurs cost on Health Resource and Sanitary equipments.\n",
    "- `id` : Give a unique id every time you create a new instance of this intervention. \n",
    "- `intervals` : The intervals when this intervention will be active.\n",
    "- `country` : The countries where this intervention will be implemented.\n",
    "- `state` : The states where this intervention will be implemented.\n",
    "- `effect` : This is the compliance ratio of people who will comply with this intervention. Higher the compliance, more the cost.\n",
    "\n",
    "**<span style=\"color:red;\">NOTE</span>** : \n",
    "- `country`, `state`, and `effect` have to be in order and should be of the same length. If you want to assign multiple states of a country to the intervention, you can do it like this:\n",
    "  ```python\n",
    "  country=[\"India\", \"India\", \"China\"],\n",
    "  state=[\"Maharashtra\", \"Karnataka\", \"Hubei\"],\n",
    "  effect=[0.8, 0.7, 0.9],\n",
    "- This intervention starts **<span style=\"color:orange;\">DORMANT</span>**, you can assign **<span style=\"color:purple;\">None</span>** but then you'd have to update the process status chart when you need it to be active."
   ]
  },
  {
   "cell_type": "code",
   "execution_count": null,
   "metadata": {},
   "outputs": [],
   "source": [
    "epidemic_two_engine.intervene(\n",
    "    alias=\"maski\",\n",
    "    process_id=\"maski-0\",\n",
    "    intervals=[[100, 130]],\n",
    "    country=[\"India\", \"Japan\"],\n",
    "    state=[\"Maharashtra\", \"Osaka\"],\n",
    "    effect=[0.5, 0.5],\n",
    ")"
   ]
  },
  {
   "cell_type": "markdown",
   "metadata": {},
   "source": [
    "#### **📦 AidKit Intervention**  \n",
    "\n",
    "The following cell will implement the AidKit Intervention 📦. This will provide aidkits to a ratio of people from various loci and incurs cost on Health Resource Stockpile.\n",
    "- `id` : Give a unique id every time you create a new instance of this intervention. \n",
    "- `intervals` : The intervals when this intervention will be active.\n",
    "- `country` : The countries where this intervention will be implemented.\n",
    "- `state` : The states where this intervention will be implemented.\n",
    "- `effect` : This is the ratio of people who will benefit from this intervention. Higher the ratio, more the cost.\n",
    "\n",
    "**<span style=\"color:red;\">NOTE</span>** : \n",
    "- `country`, `state`, and `effect` have to be in order and should be of the same length. If you want to assign multiple states of a country to the intervention, you can do it like this:\n",
    "  ```python\n",
    "  country=[\"India\", \"India\", \"China\"],\n",
    "  state=[\"Maharashtra\", \"Karnataka\", \"Hubei\"],\n",
    "  effect=[0.8, 0.7, 0.9],\n",
    "- This intervention starts **<span style=\"color:orange;\">DORMANT</span>**, you can assign **<span style=\"color:purple;\">None</span>** but then you'd have to update the process status chart when you need it to be active."
   ]
  },
  {
   "cell_type": "code",
   "execution_count": null,
   "metadata": {},
   "outputs": [],
   "source": [
    "epidemic_two_engine.intervene(\n",
    "    alias=\"aidki\",\n",
    "    process_id=\"aidki-0\",\n",
    "    intervals=[[100, 130]],\n",
    "    country=[\"India\", \"Japan\"],\n",
    "    state=[\"Maharashtra\", \"Osaka\"],\n",
    "    effect=[0.5, 0.5],\n",
    ")"
   ]
  },
  {
   "cell_type": "markdown",
   "metadata": {},
   "source": [
    "#### **🪣 Sanitary Intervention**  \n",
    "\n",
    "The following cell will implement the Sanitary Intervention 🪣. Increases general sanitation of various loci and incurs cost on Sanitary Equipment Stockpile.\n",
    "- `id` : Give a unique id every time you create a new instance of this intervention. \n",
    "- `intervals` : The intervals when this intervention will be active.\n",
    "- `country` : The countries where this intervention will be implemented.\n",
    "- `state` : The states where this intervention will be implemented.\n",
    "- `effect` : This is the ratio of people who will benefit from this intervention. Higher the ratio, more the cost.\n",
    "\n",
    "**<span style=\"color:red;\">NOTE</span>** : \n",
    "- `country`, `state`, and `effect` have to be in order and should be of the same length. If you want to assign multiple states of a country to the intervention, you can do it like this:\n",
    "  ```python\n",
    "  country=[\"India\", \"India\", \"China\"],\n",
    "  state=[\"Maharashtra\", \"Karnataka\", \"Hubei\"],\n",
    "  effect=[0.8, 0.7, 0.9],\n",
    "- This intervention starts **<span style=\"color:orange;\">DORMANT</span>**, you can assign **<span style=\"color:purple;\">None</span>** but then you'd have to update the process status chart when you need it to be active."
   ]
  },
  {
   "cell_type": "code",
   "execution_count": null,
   "metadata": {},
   "outputs": [],
   "source": [
    "epidemic_two_engine.intervene(\n",
    "    alias=\"gsani\",\n",
    "    process_id=\"gsani-0\",\n",
    "    intervals=[[100, 130]],\n",
    "    country=[\"India\", \"Japan\"],\n",
    "    state=[\"Maharashtra\", \"Osaka\"],\n",
    "    effect=[0.5, 0.5],\n",
    ")"
   ]
  },
  {
   "cell_type": "markdown",
   "metadata": {},
   "source": [
    "#### **☢️ Quarantine Intervention**  \n",
    "\n",
    "The following cell will implement the Quarantine Intervention ☢️. Builds quarantine centers in various loci which helps reducing the spread of the epidemic and incurs cost on GDP, Health Resource Stockpile and Sanitary Equipment Stockpile.\n",
    "- `id` : Give a unique id every time you create a new instance of this intervention. \n",
    "- `intervals` : The intervals when this intervention will be active.\n",
    "- `country` : The countries where this intervention will be implemented.\n",
    "- `state` : The states where this intervention will be implemented.\n",
    "- `num_centers` : This is the number of quarantine centers that will be built in the loci. More the number of centers, more the cost.\n",
    "\n",
    "**<span style=\"color:red;\">NOTE</span>** : \n",
    "- `country`, `state`, and `effect` have to be in order and should be of the same length. If you want to assign multiple states of a country to the intervention, you can do it like this:\n",
    "  ```python\n",
    "  country=[\"India\", \"India\", \"China\"],\n",
    "  state=[\"Maharashtra\", \"Karnataka\", \"Hubei\"],\n",
    "  num_centers=[4, 6, 5], # int\n",
    "- This intervention starts **<span style=\"color:orange;\">DORMANT</span>**, you can assign **<span style=\"color:purple;\">None</span>** but then you'd have to update the process status chart when you need it to be active."
   ]
  },
  {
   "cell_type": "code",
   "execution_count": null,
   "metadata": {},
   "outputs": [],
   "source": [
    "epidemic_two_engine.intervene(\n",
    "    alias=\"quafa\",\n",
    "    process_id=\"quafa-0\",\n",
    "    intervals=[[100, 130]],\n",
    "    country=[\"India\", \"Japan\"],\n",
    "    state=[\"Maharashtra\", \"Osaka\"],\n",
    "    effect=[2, 3],\n",
    ")"
   ]
  },
  {
   "cell_type": "markdown",
   "metadata": {},
   "source": [
    "#### **☢️ Economic Zone Lockdown Intervention**  \n",
    "\n",
    "The following cell will implement the Economic Zone Lockdown Intervention ☢️. It will lockdown economic zones which will lower GDP replenishment but also reduce the spread of the epidemic.\n",
    "- `id` : Give a unique id every time you create a new instance of this intervention. \n",
    "- `intervals` : The step when this will be implemented.\n",
    "- `country` : The countries where this intervention will be implemented.\n",
    "- `economic_zone_names` : The economic zones where this intervention will be implemented.\n",
    "- `effect` : The ratio of the working efficiency of the economic zone post lockdown to the normal working efficiency of the economic zone.\n",
    "\n",
    "**<span style=\"color:red;\">NOTE</span>** : \n",
    "- `country`, `economic_zone_names`, and `effect` have to be in order and should be of the same length. If you want to assign multiple economic zones of a country to the intervention, you can do it like this:\n",
    "  ```python\n",
    "  intervals={stepx},\n",
    "  country=[\"India\", \"India\", \"China\"],\n",
    "  economic_zone_names=[\"Mumbai SEZ\", \"Gurgaon Industrial Zone\", \"Wangfujing\"],\n",
    "  effect=[0.4, 0.1, 0.5],\n",
    "- ⚠️ This intervention starts **<span style=\"color:lightgreen;\">ALIVE</span>** and will die after changing the parameters. Spawn a new intervention of this kind when you need the values back to original."
   ]
  },
  {
   "cell_type": "code",
   "execution_count": null,
   "metadata": {},
   "outputs": [],
   "source": [
    "epidemic_two_engine.intervene(\n",
    "    alias=\"eczec\",\n",
    "    process_id=\"eczec-0\",\n",
    "    intervals={100},\n",
    "    country=[\"India\", \"India\"],\n",
    "    economic_zone_names=[\"Mumbai SEZ\", \"Gurgaon Industrial Zone\"],\n",
    "    effect=[0.5, 0.5],\n",
    ")"
   ]
  },
  {
   "cell_type": "markdown",
   "metadata": {},
   "source": [
    "#### **🚞 Tourist Zone Lockdown Intervention**  \n",
    "\n",
    "The following cell will implement the Tourist Zone Lockdown Intervention 🚞. It will lockdown tourist zones which will lower GDP replenishment but also reduce the spread of the epidemic. Tourist zones produce more GDP but spread the epidemic faster as well.\n",
    "- `id` : Give a unique id every time you create a new instance of this intervention. \n",
    "- `intervals` : The step when this will be implemented.\n",
    "- `country` : The countries where this intervention will be implemented.\n",
    "- `tourist_zone_names` : The tourist zones where this intervention will be implemented.\n",
    "- `effect` : The ratio of the working efficiency of the tourist zone post lockdown to the normal working efficiency of the tourist zone.\n",
    "\n",
    "**<span style=\"color:red;\">NOTE</span>** : \n",
    "- `country`, `tourist_zone_names`, and `effect` have to be in order and should be of the same length. If you want to assign multiple tourist zones of a country to the intervention, you can do it like this:\n",
    "  ```python\n",
    "  intervals={stepx},\n",
    "  country=[\"India\", \"China\"],\n",
    "  tourist_zone_names=[\"Taj Mahal\", \"Yu Garden\"],\n",
    "  effect=[0.4, 0.1],\n",
    "- ⚠️ This intervention starts **<span style=\"color:lightgreen;\">ALIVE</span>** and will die after changing the parameters. Spawn a new intervention of this kind when you need the values back to original."
   ]
  },
  {
   "cell_type": "code",
   "execution_count": null,
   "metadata": {},
   "outputs": [],
   "source": [
    "epidemic_two_engine.intervene(\n",
    "    alias=\"trzec\",\n",
    "    process_id=\"trzec-0\",\n",
    "    intervals={100},\n",
    "    country=[\"India\", \"China\"],\n",
    "    tourist_zone_names=[\"Taj Mahal\", \"Yu Garden\"],\n",
    "    effect=[0.5, 0.5],\n",
    ")"
   ]
  },
  {
   "cell_type": "markdown",
   "metadata": {},
   "source": [
    "#### **🛬 Airport Zone Lockdown Intervention**  \n",
    "\n",
    "The following cell will implement the Airport Lockdown Intervention 🛬. It will lockdown airports which will lower GDP replenishment but also reduce the spread of the epidemic. \n",
    "- `id` : Give a unique id every time you create a new instance of this intervention. \n",
    "- `intervals` : The step when this will be implemented.\n",
    "- `country` : The countries where this intervention will be implemented.\n",
    "- `airport_names` : The airports where this intervention will be implemented.\n",
    "- `effect` : The ratio of the working efficiency of the airports post lockdown to the normal working efficiency of the airports.\n",
    "\n",
    "**<span style=\"color:red;\">NOTE</span>** : \n",
    "- `country`, `airport_names`, and `effect` have to be in order and should be of the same length. If you want to assign multiple airports of a country to the intervention, you can do it like this:\n",
    "  ```python\n",
    "  intervals={stepx},\n",
    "  country=[\"India\", \"China\"],\n",
    "  airport_names=[\"Indira Gandhi International Airport\", \"Shanghai Hongqiao International Airport\"],\n",
    "  effect=[0.4, 0.1],\n",
    "- ⚠️ This intervention starts **<span style=\"color:lightgreen;\">ALIVE</span>** and will die after changing the parameters. Spawn a new intervention of this kind when you need the values back to original."
   ]
  },
  {
   "cell_type": "code",
   "execution_count": null,
   "metadata": {},
   "outputs": [],
   "source": [
    "epidemic_two_engine.intervene(\n",
    "    alias=\"airec\",\n",
    "    process_id=\"airec-0\",\n",
    "    intervals={100},\n",
    "    country=[\"India\", \"China\"],\n",
    "    airport_names=[\n",
    "        \"Indira Gandhi International Airport\",\n",
    "        \"Shanghai Hongqiao International Airport\",\n",
    "    ],\n",
    "    effect=[0.5, 0.5],\n",
    ")"
   ]
  },
  {
   "cell_type": "markdown",
   "metadata": {},
   "source": [
    "#### **🚢 Airport Zone Lockdown Intervention**  \n",
    "\n",
    "The following cell will implement the Port Lockdown Intervention 🚢. It will lockdown ports which will lower GDP replenishment but also reduce the spread of the epidemic. \n",
    "- `id` : Give a unique id every time you create a new instance of this intervention. \n",
    "- `intervals` : The step when this will be implemented.\n",
    "- `country` : The countries where this intervention will be implemented.\n",
    "- `port_names` : The ports where this intervention will be implemented.\n",
    "- `effect` : The ratio of the working efficiency of the ports post lockdown to the normal working efficiency of the ports.\n",
    "\n",
    "**<span style=\"color:red;\">NOTE</span>** : \n",
    "- `country`, `port_names`, and `effect` have to be in order and should be of the same length. If you want to assign multiple ports of a country to the intervention, you can do it like this:\n",
    "  ```python\n",
    "  intervals={stepx},\n",
    "  country=[\"India\", \"China\"],\n",
    "  port_names=[\"Indira Gandhi International Airport\", \"Shanghai Hongqiao International Airport\"],\n",
    "  effect=[0.4, 0.1],\n",
    "- ⚠️ This intervention starts **<span style=\"color:lightgreen;\">ALIVE</span>** and will die after changing the parameters. Spawn a new intervention of this kind when you need the values back to original."
   ]
  },
  {
   "cell_type": "code",
   "execution_count": null,
   "metadata": {},
   "outputs": [],
   "source": [
    "epidemic_two_engine.intervene(\n",
    "    alias=\"porec\",\n",
    "    process_id=\"porec-0\",\n",
    "    intervals={100},\n",
    "    country=[\"India\", \"China\"],\n",
    "    port_names=[\n",
    "        \"Cochin Port\",\n",
    "        \"Port of Shanghai\",\n",
    "    ],\n",
    "    effect=[0.5, 0.5],\n",
    ")"
   ]
  },
  {
   "cell_type": "markdown",
   "metadata": {},
   "source": [
    "#### **🧪 Vaccine Intervention**  \n",
    "\n",
    "The following cell will implement the Vaccine Intervention 🧪. It will vaccinate a ratio of people and incurs cost on GDP and Health Resource Stockpile.\n",
    "- `id` : Give a unique id every time you create a new instance of this intervention. \n",
    "- `intervals` : The intervals when this intervention will be active.\n",
    "- `country` : The countries where this intervention will be implemented.\n",
    "- `state` : The states where this intervention will be implemented.\n",
    "- `percent_infected_vaccinated` : The ratio of infected people who will be vaccinated.\n",
    "\n",
    "**<span style=\"color:red;\">NOTE</span>** : \n",
    "- `country`, `state`, and `percent_infected_vaccinated` have to be in order and should be of the same length. If you want to assign multiple states of a country to the intervention, you can do it like this:\n",
    "  ```python\n",
    "  intervals=[[start1, end1], [start2, end2], ...],\n",
    "  country=[\"India\", \"China\"],\n",
    "  state=[\"Maharashtra\", \"Hubei\"],\n",
    "  percent_infected_vaccinated=[0.4, 0.1] ,\n",
    "- ⚠️ This intervention starts **<span style=\"color:orange;\">DORMANT</span>**, you can assign **<span style=\"color:purple;\">None</span>** but you'd have to update process status chart when you need it to be active.\n",
    "- ⚠️ It will keep on vaccinating `percent_infected_vaccinated` ratio of the people each step, so don't schedule it for more step than it takes to vaccinate everyone."
   ]
  },
  {
   "cell_type": "code",
   "execution_count": null,
   "metadata": {},
   "outputs": [],
   "source": [
    "epidemic_two_engine.intervene(\n",
    "    alias=\"mvacp\",\n",
    "    process_id=\"mvacp-0\",\n",
    "    intervals=[[100, 105]],\n",
    "    country=[\"India\", \"China\"],\n",
    "    state=[\"Maharashtra\", \"Hubei\"],\n",
    "    percent_infected_vaccinated=[0.1, 0.1],\n",
    ")"
   ]
  },
  {
   "cell_type": "markdown",
   "metadata": {},
   "source": [
    "#### **🏥 General Hospital Building Intervention**  \n",
    "\n",
    "The following cell will implement the General Hospital Building Intervention 🏥. It will build a number of hospitals across various loci\n",
    "and incurs cost on GDP and Healthcare Resource Stockpile.\n",
    "- `id` : Give a unique id every time you create a new instance of this intervention. \n",
    "- `intervals` : The step at which this intervention will be implemented.\n",
    "- `country` : The countries where this intervention will be implemented.\n",
    "- `state` : The states where this intervention will be implemented.\n",
    "- `num_hospitals` : The number of hospitals to be built.\n",
    "\n",
    "**<span style=\"color:red;\">NOTE</span>** : \n",
    "- `country`, `state`, and `num_hospitals` have to be in order and should be of the same length. If you want to assign multiple states of a country to the intervention, you can do it like this:\n",
    "  ```python\n",
    "  intervals={stepx},\n",
    "  country=[\"India\", \"China\"],\n",
    "  state=[\"Maharashtra\", \"Hubei\"],\n",
    "  num_hospitals=[3, 4], # int\n",
    "- ⚠️ This intervention starts **<span style=\"color:lightgreen;\">ALIVE</span>**, and will die after changing the parameters."
   ]
  },
  {
   "cell_type": "code",
   "execution_count": null,
   "metadata": {},
   "outputs": [],
   "source": [
    "epidemic_two_engine.intervene(\n",
    "    alias=\"ghobp\",\n",
    "    process_id=\"ghobp-0\",\n",
    "    intervals={100},\n",
    "    country=[\"India\", \"China\"],\n",
    "    state=[\"Maharashtra\", \"Hubei\"],\n",
    "    num_hospitals=[3, 1],\n",
    ")"
   ]
  }
 ],
 "metadata": {
  "kernelspec": {
   "display_name": "base",
   "language": "python",
   "name": "python3"
  },
  "language_info": {
   "codemirror_mode": {
    "name": "ipython",
    "version": 3
   },
   "file_extension": ".py",
   "mimetype": "text/x-python",
   "name": "python",
   "nbconvert_exporter": "python",
   "pygments_lexer": "ipython3",
   "version": "3.12.2"
  }
 },
 "nbformat": 4,
 "nbformat_minor": 2
}
