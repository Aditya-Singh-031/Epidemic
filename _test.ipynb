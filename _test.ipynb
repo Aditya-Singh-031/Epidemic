{
 "cells": [
  {
   "cell_type": "code",
   "execution_count": 16,
   "metadata": {},
   "outputs": [],
   "source": [
    "import yaml\n",
    "from src.processes import ProcessV1\n",
    "from src.simulations.epidemics.gpe import Country"
   ]
  },
  {
   "cell_type": "code",
   "execution_count": 17,
   "metadata": {},
   "outputs": [
    {
     "name": "stdout",
     "output_type": "stream",
     "text": [
      "{'name': 'India', 'B': 0.0001, 'C': 0.0001, 'E': 0.0001, 'A': 0.0001, 'Ds': 0.0001, 'Di': 0.0001, 'Dr': 0.0001, 'gdp': 1000000, 'health_resource_stockpile': 0.1, 'sanitation_equipment_stockpile': 0, 'human_welfare_resource': 0.1, 'happiness_index': 0.1, 'general_hospitals': 1000, 'procedure_resistance': 0.1, 'cleanliness_index': 0.1, 'base_death_rate': 0.001, 'vaccine_components': [{'name': 'A', 'gdp_cost': 40765, 'health_resource_cost': 0.1, 'human_welfare_resource_cost': 0.1, 'cost_gdp_perstep': 3435, 'trickle': 0.1}, {'name': 'B', 'gdp_cost': 40, 'health_resource_cost': 0.1, 'human_welfare_resource_cost': 0.1, 'cost_per_step': 3, 'trickle': 0.1}, {'name': 'C', 'gdp_cost': 40, 'health_resource_cost': 0.1, 'human_welfare_resource_cost': 0.1, 'cost_per_step': 3, 'trickle': 0.1}, {'name': 'D', 'gdp_cost': 40, 'health_resource_cost': 0.1, 'human_welfare_resource_cost': 0.1, 'cost_per_step': 3, 'trickle': 0.1}, {'name': 'E', 'gdp_cost': 40, 'health_resource_cost': 0.1, 'human_welfare_resource_cost': 0.1, 'cost_per_step': 3, 'trickle': 0.1}, {'name': 'A', 'gdp_cost': 40765, 'health_resource_cost': 0.1, 'human_welfare_resource_cost': 0.1, 'cost_gdp_perstep': 3435, 'trickle': 0.1}, {'name': 'B', 'gdp_cost': 40, 'health_resource_cost': 0.1, 'human_welfare_resource_cost': 0.1, 'cost_per_step': 3, 'trickle': 0.1}, {'name': 'C', 'gdp_cost': 40, 'health_resource_cost': 0.1, 'human_welfare_resource_cost': 0.1, 'cost_per_step': 3, 'trickle': 0.1}, {'name': 'D', 'gdp_cost': 40, 'health_resource_cost': 0.1, 'human_welfare_resource_cost': 0.1, 'cost_per_step': 3, 'trickle': 0.1}, {'name': 'E', 'gdp_cost': 40, 'health_resource_cost': 0.1, 'human_welfare_resource_cost': 0.1, 'cost_per_step': 3, 'trickle': 0.1}], 'loci': [{'name': 'Maharashtra', 'lat': 19.076, 'lon': 72.8777, 'susceptible': 120000000, 'infected': 100000, 'recovered': 10, 'area': 307713, 'airports': [{'name': 'Chhatrapati_Shivaji', 'hub_tier': 1}, {'name': 'Pune Airport', 'hub_tier': 2}, {'name': 'Nagpur Airport', 'hub_tier': 2}], 'ports': [{'name': 'Mumbai Port', 'hub_tier': 1}, {'name': 'Jawaharlal Nehru Port', 'hub_tier': 1}], 'economic_zones': [{'name': 'Mumbai SEZ', 'zone_tier': 1}, {'name': 'Pune SEZ', 'zone_tier': 2}, {'name': 'Nagpur SEZ', 'zone_tier': 2}], 'tourist_zones': [{'name': 'Mumbai Beach', 'zone_tier': 1}, {'name': 'Pune Hill Station', 'zone_tier': 2}, {'name': 'Nagpur Wildlife Sanctuary', 'zone_tier': 2}]}, {'name': 'Delhi', 'lat': 28.7041, 'lon': 77.1025, 'susceptible': 20000000, 'infected': 10000, 'recovered': 100, 'area': 1484, 'airports': [{'name': 'Indira Gandhi Int. Airport', 'hub_tier': 1}, {'name': 'Safdarjung Airport', 'hub_tier': 2}], 'economic_zones': [{'name': 'Delhi SEZ', 'zone_tier': 1}, {'name': 'Noida SEZ', 'zone_tier': 2}], 'tourist_zones': [{'name': 'Delhi Historical Sites', 'zone_tier': 1}, {'name': 'Noida Amusement Park', 'zone_tier': 2}]}, {'name': 'Kerala', 'lat': 10.8505, 'lon': 76.2711, 'susceptible': 35000000, 'infected': 1000, 'recovered': 100, 'area': 38863, 'airports': [{'name': 'Cochin Int. Airport', 'hub_tier': 1}, {'name': 'Trivandrum Int. Airport', 'hub_tier': 2}], 'ports': [{'name': 'Cochin Port', 'hub_tier': 1}, {'name': 'Vizhinjam Port', 'hub_tier': 2}], 'economic_zones': [{'name': 'Cochin SEZ', 'zone_tier': 1}, {'name': 'Trivandrum SEZ', 'zone_tier': 2}], 'tourist_zones': [{'name': 'Cochin Beach', 'zone_tier': 1}, {'name': 'Trivandrum Hill Station', 'zone_tier': 2}]}, {'name': 'Karnataka', 'lat': 15.3173, 'lon': 75.7139, 'susceptible': 60000000, 'infected': 10000, 'recovered': 100, 'area': 191791, 'airports': [{'name': 'Kempegowda Int. Airport', 'hub_tier': 1}, {'name': 'Mangalore Int. Airport', 'hub_tier': 2}], 'ports': [{'name': 'New Mangalore Port', 'hub_tier': 1}, {'name': 'Karwar Port', 'hub_tier': 2}], 'economic_zones': [{'name': 'Bangalore SEZ', 'zone_tier': 1}, {'name': 'Mangalore SEZ', 'zone_tier': 2}], 'tourist_zones': [{'name': 'Bangalore Historical Sites', 'zone_tier': 1}, {'name': 'Mangalore Beach', 'zone_tier': 2}]}, {'name': 'North East', 'lat': 26.2006, 'lon': 92.9376, 'susceptible': 45000000, 'infected': 1000, 'recovered': 100, 'area': 262230, 'airports': [{'name': 'Lokpriya Gopinath Bordoloi Int. Airport', 'hub_tier': 1}, {'name': 'Dimapur Airport', 'hub_tier': 2}], 'economic_zones': [{'name': 'Guwahati SEZ', 'zone_tier': 1}, {'name': 'Dimapur SEZ', 'zone_tier': 2}], 'tourist_zones': [{'name': 'Guwahati Historical Sites', 'zone_tier': 1}, {'name': 'Dimapur Wildlife Sanctuary', 'zone_tier': 2}]}, {'name': 'West Bengal', 'lat': 22.9868, 'lon': 87.855, 'susceptible': 90000000, 'infected': 10000, 'recovered': 100, 'area': 88752, 'airports': [{'name': 'Netaji Subhas Chandra Bose Int. Airport', 'hub_tier': 1}, {'name': 'Bagdogra Airport', 'hub_tier': 2}], 'ports': [{'name': 'Kolkata Port', 'hub_tier': 1}, {'name': 'Haldia Port', 'hub_tier': 2}], 'economic_zones': [{'name': 'Kolkata SEZ', 'zone_tier': 1}, {'name': 'Siliguri SEZ', 'zone_tier': 2}], 'tourist_zones': [{'name': 'Kolkata Historical Sites', 'zone_tier': 1}, {'name': 'Siliguri Hill Station', 'zone_tier': 2}]}, {'name': 'Uttar Pradesh', 'lat': 26.8467, 'lon': 80.9462, 'susceptible': 200000000, 'infected': 10000, 'recovered': 100, 'area': 243290, 'airports': [{'name': 'Chaudhary Charan Singh Int. Airport', 'hub_tier': 1}, {'name': 'Lal Bahadur Shastri Airport', 'hub_tier': 2}, {'name': 'Jhansi Airport', 'hub_tier': 2}], 'economic_zones': [{'name': 'Lucknow SEZ', 'zone_tier': 1}, {'name': 'Kanpur SEZ', 'zone_tier': 2}, {'name': 'Jhansi SEZ', 'zone_tier': 2}], 'tourist_zones': [{'name': 'Lucknow Historical Sites', 'zone_tier': 1}, {'name': 'Kanpur Zoo', 'zone_tier': 2}]}, {'name': 'Bihar', 'lat': 25.0961, 'lon': 85.3131, 'susceptible': 120000000, 'infected': 10000, 'recovered': 100, 'area': 94163, 'airports': [{'name': 'Jay Prakash Narayan Int. Airport', 'hub_tier': 1}, {'name': 'Gaya Airport', 'hub_tier': 2}], 'economic_zones': [{'name': 'Patna SEZ', 'zone_tier': 1}, {'name': 'Gaya SEZ', 'zone_tier': 2}], 'tourist_zones': [{'name': 'Patna Historical Sites', 'zone_tier': 1}, {'name': 'Gaya Temple', 'zone_tier': 2}]}]}\n"
     ]
    }
   ],
   "source": [
    "file_path = \"C:/workspace-b/epidemic/configs/simulations/epidemics/countries/india.yaml\"\n",
    "with open(file_path, 'r') as file:\n",
    "    india_config = yaml.load(file, Loader=yaml.FullLoader)\n",
    "print(india_config)"
   ]
  },
  {
   "cell_type": "code",
   "execution_count": 18,
   "metadata": {},
   "outputs": [],
   "source": [
    "india = Country(**india_config)"
   ]
  },
  {
   "cell_type": "code",
   "execution_count": 19,
   "metadata": {},
   "outputs": [
    {
     "name": "stdout",
     "output_type": "stream",
     "text": [
      "name='India' B=0.0001 C=0.0001 E=0.0001 A=0.0001 Ds=0.0001 Di=0.0001 Dr=0.0001 gdp=1000000.0 health_resource_stockpile=0.1 sanitation_equipment_stockpile=0.0 human_welfare_resource=0.1 happiness_index=0.1 general_hospitals=1000 procedure_resistance=0.1 cleanliness_index=0.1 base_death_rate=0.001 vaccine_components=[{'name': 'A', 'gdp_cost': 40765, 'health_resource_cost': 0.1, 'human_welfare_resource_cost': 0.1, 'cost_gdp_perstep': 3435, 'trickle': 0.1}, {'name': 'B', 'gdp_cost': 40, 'health_resource_cost': 0.1, 'human_welfare_resource_cost': 0.1, 'cost_per_step': 3, 'trickle': 0.1}, {'name': 'C', 'gdp_cost': 40, 'health_resource_cost': 0.1, 'human_welfare_resource_cost': 0.1, 'cost_per_step': 3, 'trickle': 0.1}, {'name': 'D', 'gdp_cost': 40, 'health_resource_cost': 0.1, 'human_welfare_resource_cost': 0.1, 'cost_per_step': 3, 'trickle': 0.1}, {'name': 'E', 'gdp_cost': 40, 'health_resource_cost': 0.1, 'human_welfare_resource_cost': 0.1, 'cost_per_step': 3, 'trickle': 0.1}, {'name': 'A', 'gdp_cost': 40765, 'health_resource_cost': 0.1, 'human_welfare_resource_cost': 0.1, 'cost_gdp_perstep': 3435, 'trickle': 0.1}, {'name': 'B', 'gdp_cost': 40, 'health_resource_cost': 0.1, 'human_welfare_resource_cost': 0.1, 'cost_per_step': 3, 'trickle': 0.1}, {'name': 'C', 'gdp_cost': 40, 'health_resource_cost': 0.1, 'human_welfare_resource_cost': 0.1, 'cost_per_step': 3, 'trickle': 0.1}, {'name': 'D', 'gdp_cost': 40, 'health_resource_cost': 0.1, 'human_welfare_resource_cost': 0.1, 'cost_per_step': 3, 'trickle': 0.1}, {'name': 'E', 'gdp_cost': 40, 'health_resource_cost': 0.1, 'human_welfare_resource_cost': 0.1, 'cost_per_step': 3, 'trickle': 0.1}] loci=[Locus(name='Maharashtra', lat=19.076, lon=72.8777, susceptible=120000000, infected=100000, recovered=10, area=307713, airports=[{'name': 'Chhatrapati_Shivaji', 'hub_tier': 1}, {'name': 'Pune Airport', 'hub_tier': 2}, {'name': 'Nagpur Airport', 'hub_tier': 2}], ports=[{'name': 'Mumbai Port', 'hub_tier': 1}, {'name': 'Jawaharlal Nehru Port', 'hub_tier': 1}], economic_zones=[{'name': 'Mumbai SEZ', 'zone_tier': 1}, {'name': 'Pune SEZ', 'zone_tier': 2}, {'name': 'Nagpur SEZ', 'zone_tier': 2}], tourist_zones=[{'name': 'Mumbai Beach', 'zone_tier': 1}, {'name': 'Pune Hill Station', 'zone_tier': 2}, {'name': 'Nagpur Wildlife Sanctuary', 'zone_tier': 2}]), Locus(name='Delhi', lat=28.7041, lon=77.1025, susceptible=20000000, infected=10000, recovered=100, area=1484, airports=[{'name': 'Indira Gandhi Int. Airport', 'hub_tier': 1}, {'name': 'Safdarjung Airport', 'hub_tier': 2}], ports=None, economic_zones=[{'name': 'Delhi SEZ', 'zone_tier': 1}, {'name': 'Noida SEZ', 'zone_tier': 2}], tourist_zones=[{'name': 'Delhi Historical Sites', 'zone_tier': 1}, {'name': 'Noida Amusement Park', 'zone_tier': 2}]), Locus(name='Kerala', lat=10.8505, lon=76.2711, susceptible=35000000, infected=1000, recovered=100, area=38863, airports=[{'name': 'Cochin Int. Airport', 'hub_tier': 1}, {'name': 'Trivandrum Int. Airport', 'hub_tier': 2}], ports=[{'name': 'Cochin Port', 'hub_tier': 1}, {'name': 'Vizhinjam Port', 'hub_tier': 2}], economic_zones=[{'name': 'Cochin SEZ', 'zone_tier': 1}, {'name': 'Trivandrum SEZ', 'zone_tier': 2}], tourist_zones=[{'name': 'Cochin Beach', 'zone_tier': 1}, {'name': 'Trivandrum Hill Station', 'zone_tier': 2}]), Locus(name='Karnataka', lat=15.3173, lon=75.7139, susceptible=60000000, infected=10000, recovered=100, area=191791, airports=[{'name': 'Kempegowda Int. Airport', 'hub_tier': 1}, {'name': 'Mangalore Int. Airport', 'hub_tier': 2}], ports=[{'name': 'New Mangalore Port', 'hub_tier': 1}, {'name': 'Karwar Port', 'hub_tier': 2}], economic_zones=[{'name': 'Bangalore SEZ', 'zone_tier': 1}, {'name': 'Mangalore SEZ', 'zone_tier': 2}], tourist_zones=[{'name': 'Bangalore Historical Sites', 'zone_tier': 1}, {'name': 'Mangalore Beach', 'zone_tier': 2}]), Locus(name='North East', lat=26.2006, lon=92.9376, susceptible=45000000, infected=1000, recovered=100, area=262230, airports=[{'name': 'Lokpriya Gopinath Bordoloi Int. Airport', 'hub_tier': 1}, {'name': 'Dimapur Airport', 'hub_tier': 2}], ports=None, economic_zones=[{'name': 'Guwahati SEZ', 'zone_tier': 1}, {'name': 'Dimapur SEZ', 'zone_tier': 2}], tourist_zones=[{'name': 'Guwahati Historical Sites', 'zone_tier': 1}, {'name': 'Dimapur Wildlife Sanctuary', 'zone_tier': 2}]), Locus(name='West Bengal', lat=22.9868, lon=87.855, susceptible=90000000, infected=10000, recovered=100, area=88752, airports=[{'name': 'Netaji Subhas Chandra Bose Int. Airport', 'hub_tier': 1}, {'name': 'Bagdogra Airport', 'hub_tier': 2}], ports=[{'name': 'Kolkata Port', 'hub_tier': 1}, {'name': 'Haldia Port', 'hub_tier': 2}], economic_zones=[{'name': 'Kolkata SEZ', 'zone_tier': 1}, {'name': 'Siliguri SEZ', 'zone_tier': 2}], tourist_zones=[{'name': 'Kolkata Historical Sites', 'zone_tier': 1}, {'name': 'Siliguri Hill Station', 'zone_tier': 2}]), Locus(name='Uttar Pradesh', lat=26.8467, lon=80.9462, susceptible=200000000, infected=10000, recovered=100, area=243290, airports=[{'name': 'Chaudhary Charan Singh Int. Airport', 'hub_tier': 1}, {'name': 'Lal Bahadur Shastri Airport', 'hub_tier': 2}, {'name': 'Jhansi Airport', 'hub_tier': 2}], ports=None, economic_zones=[{'name': 'Lucknow SEZ', 'zone_tier': 1}, {'name': 'Kanpur SEZ', 'zone_tier': 2}, {'name': 'Jhansi SEZ', 'zone_tier': 2}], tourist_zones=[{'name': 'Lucknow Historical Sites', 'zone_tier': 1}, {'name': 'Kanpur Zoo', 'zone_tier': 2}]), Locus(name='Bihar', lat=25.0961, lon=85.3131, susceptible=120000000, infected=10000, recovered=100, area=94163, airports=[{'name': 'Jay Prakash Narayan Int. Airport', 'hub_tier': 1}, {'name': 'Gaya Airport', 'hub_tier': 2}], ports=None, economic_zones=[{'name': 'Patna SEZ', 'zone_tier': 1}, {'name': 'Gaya SEZ', 'zone_tier': 2}], tourist_zones=[{'name': 'Patna Historical Sites', 'zone_tier': 1}, {'name': 'Gaya Temple', 'zone_tier': 2}])]\n"
     ]
    }
   ],
   "source": [
    "# Pretty print the object\n",
    "print(india)"
   ]
  }
 ],
 "metadata": {
  "kernelspec": {
   "display_name": "Python 3",
   "language": "python",
   "name": "python3"
  },
  "language_info": {
   "codemirror_mode": {
    "name": "ipython",
    "version": 3
   },
   "file_extension": ".py",
   "mimetype": "text/x-python",
   "name": "python",
   "nbconvert_exporter": "python",
   "pygments_lexer": "ipython3",
   "version": "3.12.2"
  }
 },
 "nbformat": 4,
 "nbformat_minor": 2
}
