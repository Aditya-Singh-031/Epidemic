{
 "cells": [
  {
   "cell_type": "markdown",
   "metadata": {},
   "source": [
    "### **🤖 PLAYER DATA**  \n",
    "- Please assign your name and enrollment number to `NAME`.\n",
    "  ```python\n",
    "  NAME = \"ADITYA_PRAKASH_B20001\"\n",
    "  ```\n",
    "- A new experiment will be created in `LOG_DIRECTORY` each time the presets are called. You may need to restart the runtime to delete an experiment."
   ]
  },
  {
   "cell_type": "code",
   "execution_count": 1,
   "metadata": {},
   "outputs": [],
   "source": [
    "NAME = \"ADITYA_PRAKASH_B20001\"\n",
    "LOG_DIRECTORY = None"
   ]
  },
  {
   "cell_type": "markdown",
   "metadata": {},
   "source": [
    "### **📃 DEPENDENCIES**"
   ]
  },
  {
   "cell_type": "code",
   "execution_count": 3,
   "metadata": {},
   "outputs": [],
   "source": [
    "import sys\n",
    "\n",
    "sys.path.append(\"../\")\n",
    "import pprint\n",
    "\n",
    "\n",
    "import src.mirage.frameworks.epidemics as mre\n",
    "\n",
    "\n",
    "\n",
    "pp = pprint.PrettyPrinter()"
   ]
  },
  {
   "cell_type": "markdown",
   "metadata": {},
   "source": [
    "### **⚙️ SETUP**"
   ]
  },
  {
   "cell_type": "code",
   "execution_count": 4,
   "metadata": {},
   "outputs": [
    {
     "name": "stderr",
     "output_type": "stream",
     "text": [
      "2024-04-20 19:17:47 - V1 | FireflyV1 | EPIDEMIC2.0_ADITYA_PRAKASH_B20001 - INFO -  >> 🚀 Initialized.\n",
      "2024-04-20 19:17:51 - V1 | FireflyV1 | EPIDEMIC2.0_ADITYA_PRAKASH_B20001 - INFO -  📈 Tensorboard URL: http://Meghnad:6006/ http://192.168.179.44:6006/\n"
     ]
    }
   ],
   "source": [
    "countries, core_processes, epidemic_two_engine, tboard = (\n",
    "    mre.presets.preset_kbg_epidemic_2_0(\n",
    "        player_name=NAME,\n",
    "        engine_speed=7,\n",
    "        log_dir=LOG_DIRECTORY,\n",
    "    )\n",
    ")"
   ]
  },
  {
   "cell_type": "markdown",
   "metadata": {},
   "source": [
    "### **🔥 FIRE**\n",
    "- `N_STEPS` is the number of steps the engine runs for. One step roughly corresponds to a single day in real time although the simulation might progress too slowly in this regime because we did not have time to properly snap a 2 year epidemic trajectory onto 365 * 2 steps in terms of various constants and parameters.\n",
    "- To account for the above issue, let's agree on **<span style=\"color:red;\">6000</span>** as the standard value for `N_STEPS` for the purpose of this experiment. You may have it less than it but not more. \n",
    "- The engine will step through the simulation at `epidemic_two_engine.speed` steps per minute. The default is **<span style=\"color:orange;\">7</span>**. If at any point you feel like the simulation is progessing too slowly you can always assign a higher value to `epidemic_two_engine.speed` to speed things up. If you feel like you don't require a lot of changes or require time to implement a lot of interventions at any step or just want to see the effects of your interventions after logging them in , just speed things up for a bit 🚀."
   ]
  },
  {
   "cell_type": "code",
   "execution_count": 5,
   "metadata": {},
   "outputs": [
    {
     "name": "stderr",
     "output_type": "stream",
     "text": [
      "2024-04-20 19:17:59 - V1 | FireflyV1 | EPIDEMIC2.0_ADITYA_PRAKASH_B20001 - INFO -  >> 🔥 Firing...\n",
      "2024-04-20 19:17:59 - V1 | FireflyV1 | EPIDEMIC2.0_ADITYA_PRAKASH_B20001 - INFO -  >> ▶️ Playing...\n"
     ]
    },
    {
     "data": {
      "text/plain": [
       "<Thread(Thread-17 (orchestration_loop), started 20264)>"
      ]
     },
     "execution_count": 5,
     "metadata": {},
     "output_type": "execute_result"
    }
   ],
   "source": [
    "N_STEPS = 365 * 2\n",
    "epidemic_two_engine.fire(N_STEPS)"
   ]
  },
  {
   "cell_type": "markdown",
   "metadata": {},
   "source": [
    "### **🎛️ ▶️⏸️⏹️**\n",
    "The engine can be controlled using this control panel. You can play, pause, stop and change the speed of the engine using the widget provided below. In case Tensorboard lags use the following cell to see the current step."
   ]
  },
  {
   "cell_type": "code",
   "execution_count": 24,
   "metadata": {},
   "outputs": [
    {
     "data": {
      "text/plain": [
       "20"
      ]
     },
     "execution_count": 24,
     "metadata": {},
     "output_type": "execute_result"
    }
   ],
   "source": [
    "epidemic_two_engine.STEP"
   ]
  },
  {
   "cell_type": "code",
   "execution_count": 6,
   "metadata": {},
   "outputs": [
    {
     "data": {
      "application/vnd.jupyter.widget-view+json": {
       "model_id": "9cbac45326264e3d865a28b144e9acd9",
       "version_major": 2,
       "version_minor": 0
      },
      "text/plain": [
       "HBox(children=(Label(value='🎛️ Control Panel'), Button(description='▶️', style=ButtonStyle()), Button(descript…"
      ]
     },
     "metadata": {},
     "output_type": "display_data"
    }
   ],
   "source": [
    "epidemic_two_engine.dynamics_control_panel()"
   ]
  },
  {
   "cell_type": "markdown",
   "metadata": {},
   "source": [
    "### **📈 PROCESS STATUS CHART**\n",
    "Process status chart will display the steps when the processes will be **<span style=\"color:lightgreen;\">ALIVE</span>** as a list of closed intervals. \n",
    "```python\n",
    "{\n",
    "    \"process-x\": [[start1, end1], [start2, end2], ...],\n",
    "    \"process-y\": [[start1, end1], [start2, end2], ...],\n",
    "}\n",
    "```\n",
    "You can time your interventions accordingly. The process status chart can also be updated in real-time for your interventions.\n",
    "\n",
    "⚠️ **<span style=\"color:red;\">NOTE</span>** : Do not tamper with this variable directly."
   ]
  },
  {
   "cell_type": "markdown",
   "metadata": {},
   "source": [
    "Run the following cell to view process status chart. `PROCESS_IDS` can be a **<span style=\"color:lightblue;\">list</span>** of process ids for which you want to see the process status chart or a **<span style=\"color:lightgreen;\">str</span>**. If you want to see the process status chart for all the processes, you can assign **<span style=\"color:purple;\">None</span>** to `PROCESS_IDS`. \n",
    "```python\n",
    "# Usage 1\n",
    "PROCESS_IDS = None\n",
    "# Usage 2\n",
    "PROCESS_IDS = \"process-x\"\n",
    "# Usage 3\n",
    "PROCESS_IDS = [\"process-x\", \"process-y\"]\n",
    "```"
   ]
  },
  {
   "cell_type": "code",
   "execution_count": 8,
   "metadata": {},
   "outputs": [
    {
     "name": "stdout",
     "output_type": "stream",
     "text": [
      "{'airpo': [[0, 6001]],\n",
      " 'birth': [[0, 6001]],\n",
      " 'dissp': [[0, 6001]],\n",
      " 'ecosp': [[0, 6001]],\n",
      " 'ghocp': [[0, 6001]],\n",
      " 'inc_e': [[0, 6001]],\n",
      " 'incdi': [[0, 6001]],\n",
      " 'incdr': [[0, 6001]],\n",
      " 'incds': [[0, 6001]],\n",
      " 'portp': [[0, 6001]],\n",
      " 'touri': [[0, 6001]]}\n"
     ]
    }
   ],
   "source": [
    "PROCESS_IDS = None\n",
    "pp.pprint(epidemic_two_engine.filter_pr_stat_chart(PROCESS_IDS))"
   ]
  },
  {
   "cell_type": "markdown",
   "metadata": {},
   "source": [
    "Run the following cell to list all the processes that are registered on the engine."
   ]
  },
  {
   "cell_type": "code",
   "execution_count": 9,
   "metadata": {},
   "outputs": [
    {
     "name": "stdout",
     "output_type": "stream",
     "text": [
      "['birth',\n",
      " 'ecosp',\n",
      " 'inc_e',\n",
      " 'incdr',\n",
      " 'incdi',\n",
      " 'incds',\n",
      " 'touri',\n",
      " 'airpo',\n",
      " 'portp',\n",
      " 'dissp',\n",
      " 'ghocp']\n"
     ]
    }
   ],
   "source": [
    "pp.pprint(epidemic_two_engine.list_processes())"
   ]
  },
  {
   "cell_type": "markdown",
   "metadata": {},
   "source": [
    "To update the process status chart for a particular process, you can run the following cell. \n",
    "```python\n",
    "PROCESS_ID = \"process-x\"\n",
    "# Intervals 1\n",
    "INTERVALS = [[start1, end1], [start2, end2], ...]\n",
    "# Intervals 2\n",
    "INTERVALS = [start1, end1]\n",
    "# Intervals 3\n",
    "INTERVALS = {alive1, alive2, ...}\n",
    "MODE = \"ALIVE\"\n",
    "```\n",
    "`INTERVALS` can be a list of closed intervals, a closed interval or a set of steps which we want to change. `MODE` can be **<span style=\"color:lightgreen;\">ALIVE</span>** or **<span style=\"color:orange;\">DORMANT</span>**, depending on whether you want the process to be alive or dormant in the given intervals."
   ]
  },
  {
   "cell_type": "code",
   "execution_count": 10,
   "metadata": {},
   "outputs": [
    {
     "name": "stderr",
     "output_type": "stream",
     "text": [
      "2024-04-20 19:19:02 - V1 | FireflyV1 | EPIDEMIC2.0_ADITYA_PRAKASH_B20001 - INFO -  >> 📝 PSC updated | Process: dissp, Timeline: [[0, 119], [141, 219], [251, 6001]].\n"
     ]
    }
   ],
   "source": [
    "PROCESS_ID = \"dissp\"\n",
    "INTERVALS = [[120, 140], [220, 250]]\n",
    "MODE = \"DORMANT\"\n",
    "epidemic_two_engine.update_psc(PROCESS_ID, INTERVALS, MODE)"
   ]
  },
  {
   "cell_type": "markdown",
   "metadata": {},
   "source": [
    "### **💀 KILL PROCESS**\n",
    "Run the following cell with Process ID of whichever process you want to kill."
   ]
  },
  {
   "cell_type": "code",
   "execution_count": 11,
   "metadata": {},
   "outputs": [
    {
     "name": "stderr",
     "output_type": "stream",
     "text": [
      "2024-04-20 19:19:05 - V1 | FireflyV1 | EPIDEMIC2.0_ADITYA_PRAKASH_B20001 - INFO -  >> 💀 Process killed | Process: airpo.\n"
     ]
    }
   ],
   "source": [
    "PROCESS_ID = \"airpo\"\n",
    "epidemic_two_engine.kill_process(PROCESS_ID)"
   ]
  },
  {
   "cell_type": "markdown",
   "metadata": {},
   "source": [
    "### **🗺️ COUNTRIES**\n",
    "To view the schema of a country run the following cell.\n",
    "Available countries are : India, China, France, Japan, USA"
   ]
  },
  {
   "cell_type": "code",
   "execution_count": 12,
   "metadata": {},
   "outputs": [
    {
     "name": "stdout",
     "output_type": "stream",
     "text": [
      "{'cleanliness_index': 0.665,\n",
      " 'disease_research_center': 0,\n",
      " 'gdp': 21632181.409057707,\n",
      " 'happiness_index': 0.65,\n",
      " 'health_resource_stockpile': 3849.0,\n",
      " 'human_welfare_resource': 1325.0,\n",
      " 'loci': [{'A': 0.033346954728529325,\n",
      "           'B': 0.029346815122817234,\n",
      "           'C': 0.006,\n",
      "           'Di': 0.006000000000000004,\n",
      "           'Dr': 9e-05,\n",
      "           'Ds': 0.0006000000170369839,\n",
      "           'E': 0.04540000000000001,\n",
      "           'airports': [{'effect': 1.0,\n",
      "                         'infection_rate': 0.001,\n",
      "                         'name': 'Chhatrapati Shivaji Maharaj International '\n",
      "                                 'Airport',\n",
      "                         'zone_tier': 1},\n",
      "                        {'effect': 1.0,\n",
      "                         'infection_rate': 0.0005,\n",
      "                         'name': 'Pune International Airport',\n",
      "                         'zone_tier': 2}],\n",
      "           'area': 307713.0,\n",
      "           'dead': 30.004878879154273,\n",
      "           'economic_zones': [{'effect': 1.0,\n",
      "                               'name': 'Mumbai SEZ',\n",
      "                               'zone_tier': 1},\n",
      "                              {'effect': 1.0,\n",
      "                               'name': 'Pune IT Park',\n",
      "                               'zone_tier': 2}],\n",
      "           'general_hospitals': 10,\n",
      "           'infected': 96649.63563534834,\n",
      "           'lat': 19.7515,\n",
      "           'lon': 75.7139,\n",
      "           'name': 'Maharashtra',\n",
      "           'ports': [{'effect': 1.0,\n",
      "                      'infection_rate': 0.001,\n",
      "                      'name': 'Mumbai Port',\n",
      "                      'zone_tier': 1},\n",
      "                     {'effect': 1.0,\n",
      "                      'infection_rate': 0.0001,\n",
      "                      'name': 'Goa Port',\n",
      "                      'zone_tier': 3}],\n",
      "           'quarantine_facilities': 2,\n",
      "           'recovered': 6.905709191710679,\n",
      "           'susceptible': 112374336.09429081,\n",
      "           'tourist_zones': [{'effect': 1.0,\n",
      "                              'name': 'Gateway of India',\n",
      "                              'zone_tier': 1},\n",
      "                             {'effect': 1.0,\n",
      "                              'name': 'Elephanta Caves',\n",
      "                              'zone_tier': 2}],\n",
      "           'vaccine_distribution_centers': 0},\n",
      "          {'A': 0.025501028935185733,\n",
      "           'B': 0.03534681512281725,\n",
      "           'C': 0.004400732065464715,\n",
      "           'Di': 0.007000000000000018,\n",
      "           'Dr': 9.000000000000011e-05,\n",
      "           'Ds': 0.0010000000169516836,\n",
      "           'E': 0.04040000000000018,\n",
      "           'airports': [{'effect': 1.0,\n",
      "                         'infection_rate': 0.002,\n",
      "                         'name': 'Indira Gandhi International Airport',\n",
      "                         'zone_tier': 1}],\n",
      "           'area': 1484.0,\n",
      "           'dead': 3.4972438753656623,\n",
      "           'economic_zones': [{'effect': 1.0,\n",
      "                               'name': 'Delhi SEZ',\n",
      "                               'zone_tier': 1},\n",
      "                              {'effect': 1.0,\n",
      "                               'name': 'Gurgaon Industrial Zone',\n",
      "                               'zone_tier': 2}],\n",
      "           'general_hospitals': 10,\n",
      "           'infected': 95875.8612807772,\n",
      "           'lat': 28.7041,\n",
      "           'lon': 77.1025,\n",
      "           'name': 'Delhi',\n",
      "           'ports': None,\n",
      "           'quarantine_facilities': 2,\n",
      "           'recovered': 720.038041525424,\n",
      "           'susceptible': 16788220.96195847,\n",
      "           'tourist_zones': [{'effect': 1.0,\n",
      "                              'name': 'Qutub Minar',\n",
      "                              'zone_tier': 1},\n",
      "                             {'effect': 1.0,\n",
      "                              'name': 'Red Fort',\n",
      "                              'zone_tier': 2}],\n",
      "           'vaccine_distribution_centers': 0},\n",
      "          {'A': 0.020950251456336267,\n",
      "           'B': 0.03675984020537357,\n",
      "           'C': 0.005,\n",
      "           'Di': 0.007500000000000003,\n",
      "           'Dr': 0.0001650000000000001,\n",
      "           'Ds': 0.000700000017043579,\n",
      "           'E': 0.05540000000000001,\n",
      "           'airports': [{'effect': 1.0,\n",
      "                         'infection_rate': 0.0002,\n",
      "                         'name': 'Chaudhary Charan Singh International Airport',\n",
      "                         'zone_tier': 1}],\n",
      "           'area': 243290.0,\n",
      "           'dead': 30.009658858379538,\n",
      "           'economic_zones': [{'effect': 1.0,\n",
      "                               'name': 'Noida SEZ',\n",
      "                               'zone_tier': 1}],\n",
      "           'general_hospitals': 10,\n",
      "           'infected': 95491.0108591785,\n",
      "           'lat': 26.8467,\n",
      "           'lon': 80.9462,\n",
      "           'name': 'Uttar Pradesh',\n",
      "           'ports': None,\n",
      "           'quarantine_facilities': 2,\n",
      "           'recovered': 6.3478567330184354,\n",
      "           'susceptible': 199812344.65214327,\n",
      "           'tourist_zones': [{'effect': 1.0,\n",
      "                              'name': 'Taj Mahal',\n",
      "                              'zone_tier': 1},\n",
      "                             {'effect': 1.0,\n",
      "                              'name': 'Varanasi Spiritual zone',\n",
      "                              'zone_tier': 3}],\n",
      "           'vaccine_distribution_centers': 0},\n",
      "          {'A': 0.02399579257504538,\n",
      "           'B': 0.026346815122817235,\n",
      "           'C': 0.0065,\n",
      "           'Di': 0.00650000000000001,\n",
      "           'Dr': 0.00011499999999999999,\n",
      "           'Ds': 0.0007500000170017694,\n",
      "           'E': 0.042400000000000014,\n",
      "           'airports': [{'effect': 1.0,\n",
      "                         'infection_rate': 0.0002,\n",
      "                         'name': 'Cochin International Airport',\n",
      "                         'zone_tier': 1}],\n",
      "           'area': 38863.0,\n",
      "           'dead': 40.00666335149039,\n",
      "           'economic_zones': [{'effect': 1.0,\n",
      "                               'name': 'Cochin SEZ',\n",
      "                               'zone_tier': 1}],\n",
      "           'general_hospitals': 10,\n",
      "           'infected': 96262.06817415394,\n",
      "           'lat': 10.8505,\n",
      "           'lon': 76.2711,\n",
      "           'name': 'Kerala',\n",
      "           'ports': [{'effect': 1.0,\n",
      "                      'infection_rate': 0.0002,\n",
      "                      'name': 'Cochin Port',\n",
      "                      'zone_tier': 1}],\n",
      "           'quarantine_facilities': 2,\n",
      "           'recovered': 7.081217757683429,\n",
      "           'susceptible': 33406063.91878224,\n",
      "           'tourist_zones': [{'effect': 1.0,\n",
      "                              'name': 'Kerala Backwaters',\n",
      "                              'zone_tier': 1},\n",
      "                             {'effect': 1.0,\n",
      "                              'name': 'Munnar Tea Estates',\n",
      "                              'zone_tier': 2}],\n",
      "           'vaccine_distribution_centers': 0},\n",
      "          {'A': 0.019800673168700312,\n",
      "           'B': 0.029814090577143935,\n",
      "           'C': 0.005900109201033024,\n",
      "           'Di': 0.008500000000000004,\n",
      "           'Dr': 0.00014000000000000004,\n",
      "           'Ds': 0.0008500000170243542,\n",
      "           'E': 0.04840000000000001,\n",
      "           'airports': [{'effect': 1.0,\n",
      "                         'infection_rate': 0.0002,\n",
      "                         'name': 'Sardar Vallabhbhai Patel International '\n",
      "                                 'Airport',\n",
      "                         'zone_tier': 1}],\n",
      "           'area': 196024.0,\n",
      "           'dead': 30.082107888825036,\n",
      "           'economic_zones': [{'effect': 1.0,\n",
      "                               'name': 'Ahmedabad SEZ',\n",
      "                               'zone_tier': 1},\n",
      "                              {'effect': 1.0,\n",
      "                               'name': 'Surat Diamond Park',\n",
      "                               'zone_tier': 3}],\n",
      "           'general_hospitals': 1,\n",
      "           'infected': 94725.36309854231,\n",
      "           'lat': 22.2587,\n",
      "           'lon': 71.1924,\n",
      "           'name': 'Gujarat',\n",
      "           'ports': [{'effect': 1.0,\n",
      "                      'infection_rate': 0.0002,\n",
      "                      'name': 'Kandla Port',\n",
      "                      'zone_tier': 1}],\n",
      "           'quarantine_facilities': 2,\n",
      "           'recovered': 67.34018727288925,\n",
      "           'susceptible': 60439724.659812726,\n",
      "           'tourist_zones': [{'effect': 1.0,\n",
      "                              'name': 'Sabarmati Ashram',\n",
      "                              'zone_tier': 1}],\n",
      "           'vaccine_distribution_centers': 0}],\n",
      " 'name': 'India',\n",
      " 'procedure_resistance': 0.48,\n",
      " 'sanitation_equipment_stockpile': 5219.0,\n",
      " 'vaccine_research_center': 0,\n",
      " 'vaccines_stock': [{'effectiveness': 0.4,\n",
      "                     'gdp_cost_per_step': 1000,\n",
      "                     'name': 'ABC',\n",
      "                     'quantity': 20},\n",
      "                    {'effectiveness': 0.22,\n",
      "                     'gdp_cost_per_step': 1000,\n",
      "                     'name': 'ACB',\n",
      "                     'quantity': 30},\n",
      "                    {'effectiveness': 0.95,\n",
      "                     'gdp_cost_per_step': 1000,\n",
      "                     'name': 'BAC',\n",
      "                     'quantity': 10},\n",
      "                    {'effectiveness': -0.2,\n",
      "                     'gdp_cost_per_step': 1000,\n",
      "                     'name': 'BCA',\n",
      "                     'quantity': 12},\n",
      "                    {'effectiveness': 0.5,\n",
      "                     'gdp_cost_per_step': 1000,\n",
      "                     'name': 'CAB',\n",
      "                     'quantity': 23},\n",
      "                    {'effectiveness': 0.1,\n",
      "                     'gdp_cost_per_step': 1000,\n",
      "                     'name': 'CBA',\n",
      "                     'quantity': 10}]}\n"
     ]
    }
   ],
   "source": [
    "COUNTRY = \"India\"\n",
    "pp.pprint(countries[COUNTRY].model_dump())"
   ]
  },
  {
   "cell_type": "markdown",
   "metadata": {},
   "source": [
    "### **💉 INTERVENTIONS**"
   ]
  },
  {
   "cell_type": "markdown",
   "metadata": {},
   "source": [
    "#### **😷 Mask Intervention**  \n",
    "\n",
    "The following cell will implement the Mask Intervention 😷. It will mask a ratio of people from various loci and incurs cost on Health Resource and Sanitary equipments.\n",
    "- `id` : Give a unique id every time you create a new instance of this intervention. \n",
    "- `intervals` : The intervals when this intervention will be active.\n",
    "- `country` : The countries where this intervention will be implemented.\n",
    "- `state` : The states where this intervention will be implemented.\n",
    "- `effect` : This is the compliance ratio of people who will comply with this intervention. Higher the compliance, more the cost.\n",
    "\n",
    "**<span style=\"color:red;\">NOTE</span>** : \n",
    "- `country`, `state`, and `effect` have to be in order and should be of the same length. If you want to assign multiple states of a country to the intervention, you can do it like this:\n",
    "  ```python\n",
    "  country=[\"India\", \"India\", \"China\"],\n",
    "  state=[\"Maharashtra\", \"Karnataka\", \"Hubei\"],\n",
    "  effect=[0.8, 0.7, 0.9],\n",
    "- This intervention starts **<span style=\"color:orange;\">DORMANT</span>**, you can assign **<span style=\"color:purple;\">None</span>** but then you'd have to update the process status chart when you need it to be active."
   ]
  },
  {
   "cell_type": "code",
   "execution_count": 13,
   "metadata": {},
   "outputs": [
    {
     "name": "stderr",
     "output_type": "stream",
     "text": [
      "2024-04-20 19:19:14 - V1 | FireflyV1 | EPIDEMIC2.0_ADITYA_PRAKASH_B20001 - INFO -  >> 📝 PSC updated | Process: maski-0, Timeline: [[100, 130], [6002, 6002]].\n",
      "2024-04-20 19:19:14 - V1 | FireflyV1 | EPIDEMIC2.0_ADITYA_PRAKASH_B20001 - INFO -  >> 📝 Process registered | Process: maski-0.\n"
     ]
    }
   ],
   "source": [
    "epidemic_two_engine.intervene(\n",
    "    alias=\"maski\",\n",
    "    process_id=\"maski-0\",\n",
    "    intervals=[[100, 130]],\n",
    "    country=[\"India\", \"Japan\"],\n",
    "    state=[\"Maharashtra\", \"Osaka\"],\n",
    "    effect=[0.5, 0.5],\n",
    ")"
   ]
  },
  {
   "cell_type": "markdown",
   "metadata": {},
   "source": [
    "#### **📦 AidKit Intervention**  \n",
    "\n",
    "The following cell will implement the AidKit Intervention 📦. This will provide aidkits to a ratio of people from various loci and incurs cost on Health Resource Stockpile.\n",
    "- `id` : Give a unique id every time you create a new instance of this intervention. \n",
    "- `intervals` : The intervals when this intervention will be active.\n",
    "- `country` : The countries where this intervention will be implemented.\n",
    "- `state` : The states where this intervention will be implemented.\n",
    "- `effect` : This is the ratio of people who will benefit from this intervention. Higher the ratio, more the cost.\n",
    "\n",
    "**<span style=\"color:red;\">NOTE</span>** : \n",
    "- `country`, `state`, and `effect` have to be in order and should be of the same length. If you want to assign multiple states of a country to the intervention, you can do it like this:\n",
    "  ```python\n",
    "  country=[\"India\", \"India\", \"China\"],\n",
    "  state=[\"Maharashtra\", \"Karnataka\", \"Hubei\"],\n",
    "  effect=[0.8, 0.7, 0.9],\n",
    "- This intervention starts **<span style=\"color:orange;\">DORMANT</span>**, you can assign **<span style=\"color:purple;\">None</span>** but then you'd have to update the process status chart when you need it to be active."
   ]
  },
  {
   "cell_type": "code",
   "execution_count": 14,
   "metadata": {},
   "outputs": [
    {
     "name": "stderr",
     "output_type": "stream",
     "text": [
      "2024-04-20 19:19:21 - V1 | FireflyV1 | EPIDEMIC2.0_ADITYA_PRAKASH_B20001 - INFO -  >> 📝 PSC updated | Process: aidki-0, Timeline: [[100, 130], [6002, 6002]].\n",
      "2024-04-20 19:19:21 - V1 | FireflyV1 | EPIDEMIC2.0_ADITYA_PRAKASH_B20001 - INFO -  >> 📝 Process registered | Process: aidki-0.\n"
     ]
    }
   ],
   "source": [
    "epidemic_two_engine.intervene(\n",
    "    alias=\"aidki\",\n",
    "    process_id=\"aidki-0\",\n",
    "    intervals=[[100, 130]],\n",
    "    country=[\"India\", \"Japan\"],\n",
    "    state=[\"Maharashtra\", \"Osaka\"],\n",
    "    effect=[0.5, 0.5],\n",
    ")"
   ]
  },
  {
   "cell_type": "markdown",
   "metadata": {},
   "source": [
    "#### **🪣 Sanitary Intervention**  \n",
    "\n",
    "The following cell will implement the Sanitary Intervention 🪣. Increases general sanitation of various loci and incurs cost on Sanitary Equipment Stockpile.\n",
    "- `id` : Give a unique id every time you create a new instance of this intervention. \n",
    "- `intervals` : The intervals when this intervention will be active.\n",
    "- `country` : The countries where this intervention will be implemented.\n",
    "- `state` : The states where this intervention will be implemented.\n",
    "- `effect` : This is the ratio of people who will benefit from this intervention. Higher the ratio, more the cost.\n",
    "\n",
    "**<span style=\"color:red;\">NOTE</span>** : \n",
    "- `country`, `state`, and `effect` have to be in order and should be of the same length. If you want to assign multiple states of a country to the intervention, you can do it like this:\n",
    "  ```python\n",
    "  country=[\"India\", \"India\", \"China\"],\n",
    "  state=[\"Maharashtra\", \"Karnataka\", \"Hubei\"],\n",
    "  effect=[0.8, 0.7, 0.9],\n",
    "- This intervention starts **<span style=\"color:orange;\">DORMANT</span>**, you can assign **<span style=\"color:purple;\">None</span>** but then you'd have to update the process status chart when you need it to be active."
   ]
  },
  {
   "cell_type": "code",
   "execution_count": 15,
   "metadata": {},
   "outputs": [
    {
     "name": "stderr",
     "output_type": "stream",
     "text": [
      "2024-04-20 19:19:23 - V1 | FireflyV1 | EPIDEMIC2.0_ADITYA_PRAKASH_B20001 - INFO -  >> 📝 PSC updated | Process: gsani-0, Timeline: [[100, 130], [6002, 6002]].\n",
      "2024-04-20 19:19:23 - V1 | FireflyV1 | EPIDEMIC2.0_ADITYA_PRAKASH_B20001 - INFO -  >> 📝 Process registered | Process: gsani-0.\n"
     ]
    }
   ],
   "source": [
    "epidemic_two_engine.intervene(\n",
    "    alias=\"gsani\",\n",
    "    process_id=\"gsani-0\",\n",
    "    intervals=[[100, 130]],\n",
    "    country=[\"India\", \"Japan\"],\n",
    "    state=[\"Maharashtra\", \"Osaka\"],\n",
    "    effect=[0.5, 0.5],\n",
    ")"
   ]
  },
  {
   "cell_type": "markdown",
   "metadata": {},
   "source": [
    "#### **☢️ Quarantine Intervention**  \n",
    "\n",
    "The following cell will implement the Quarantine Intervention ☢️. Builds quarantine centers in various loci which helps reducing the spread of the epidemic and incurs cost on GDP, Health Resource Stockpile and Sanitary Equipment Stockpile.\n",
    "- `id` : Give a unique id every time you create a new instance of this intervention. \n",
    "- `intervals` : The intervals when this intervention will be active.\n",
    "- `country` : The countries where this intervention will be implemented.\n",
    "- `state` : The states where this intervention will be implemented.\n",
    "- `num_centers` : This is the number of quarantine centers that will be built in the loci. More the number of centers, more the cost.\n",
    "\n",
    "**<span style=\"color:red;\">NOTE</span>** : \n",
    "- `country`, `state`, and `effect` have to be in order and should be of the same length. If you want to assign multiple states of a country to the intervention, you can do it like this:\n",
    "  ```python\n",
    "  country=[\"India\", \"India\", \"China\"],\n",
    "  state=[\"Maharashtra\", \"Karnataka\", \"Hubei\"],\n",
    "  num_centers=[4, 6, 5], # int\n",
    "- This intervention starts **<span style=\"color:orange;\">DORMANT</span>**, you can assign **<span style=\"color:purple;\">None</span>** but then you'd have to update the process status chart when you need it to be active."
   ]
  },
  {
   "cell_type": "code",
   "execution_count": 17,
   "metadata": {},
   "outputs": [
    {
     "name": "stderr",
     "output_type": "stream",
     "text": [
      "2024-04-20 19:19:42 - V1 | FireflyV1 | EPIDEMIC2.0_ADITYA_PRAKASH_B20001 - INFO -  >> 📝 PSC updated | Process: quafa-0, Timeline: [[100, 130], [6002, 6002]].\n",
      "2024-04-20 19:19:42 - V1 | FireflyV1 | EPIDEMIC2.0_ADITYA_PRAKASH_B20001 - INFO -  >> 📝 Process registered | Process: quafa-0.\n"
     ]
    }
   ],
   "source": [
    "epidemic_two_engine.intervene(\n",
    "    alias=\"quafa\",\n",
    "    process_id=\"quafa-0\",\n",
    "    intervals=[[100, 130]],\n",
    "    country=[\"India\", \"Japan\"],\n",
    "    state=[\"Maharashtra\", \"Osaka\"],\n",
    "    num_centers=[2, 3],\n",
    ")"
   ]
  },
  {
   "cell_type": "markdown",
   "metadata": {},
   "source": [
    "#### **☢️ Economic Zone Lockdown Intervention**  \n",
    "\n",
    "The following cell will implement the Economic Zone Lockdown Intervention ☢️. It will lockdown economic zones which will lower GDP replenishment but also reduce the spread of the epidemic.\n",
    "- `id` : Give a unique id every time you create a new instance of this intervention. \n",
    "- `intervals` : The step when this will be implemented.\n",
    "- `country` : The countries where this intervention will be implemented.\n",
    "- `economic_zone_names` : The economic zones where this intervention will be implemented.\n",
    "- `effect` : The ratio of the working efficiency of the economic zone post lockdown to the normal working efficiency of the economic zone.\n",
    "\n",
    "**<span style=\"color:red;\">NOTE</span>** : \n",
    "- `country`, `economic_zone_names`, and `effect` have to be in order and should be of the same length. If you want to assign multiple economic zones of a country to the intervention, you can do it like this:\n",
    "  ```python\n",
    "  intervals={stepx},\n",
    "  country=[\"India\", \"India\", \"China\"],\n",
    "  economic_zone_names=[\"Mumbai SEZ\", \"Gurgaon Industrial Zone\", \"Wangfujing\"],\n",
    "  effect=[0.4, 0.1, 0.5],\n",
    "- ⚠️ This intervention starts **<span style=\"color:lightgreen;\">ALIVE</span>** and will die after changing the parameters. Spawn a new intervention of this kind when you need the values back to original."
   ]
  },
  {
   "cell_type": "code",
   "execution_count": 18,
   "metadata": {},
   "outputs": [
    {
     "name": "stderr",
     "output_type": "stream",
     "text": [
      "2024-04-20 19:19:45 - V1 | FireflyV1 | EPIDEMIC2.0_ADITYA_PRAKASH_B20001 - INFO -  >> 📝 PSC updated | Process: eczec-0, Timeline: [[100, 100], [6002, 6002]].\n",
      "2024-04-20 19:19:45 - V1 | FireflyV1 | EPIDEMIC2.0_ADITYA_PRAKASH_B20001 - INFO -  >> 📝 Process registered | Process: eczec-0.\n"
     ]
    }
   ],
   "source": [
    "epidemic_two_engine.intervene(\n",
    "    alias=\"eczec\",\n",
    "    process_id=\"eczec-0\",\n",
    "    intervals={100},\n",
    "    country=[\"India\", \"India\"],\n",
    "    economic_zone_names=[\"Mumbai SEZ\", \"Gurgaon Industrial Zone\"],\n",
    "    effect=[0.5, 0.5],\n",
    ")"
   ]
  },
  {
   "cell_type": "markdown",
   "metadata": {},
   "source": [
    "#### **🚞 Tourist Zone Lockdown Intervention**  \n",
    "\n",
    "The following cell will implement the Tourist Zone Lockdown Intervention 🚞. It will lockdown tourist zones which will lower GDP replenishment but also reduce the spread of the epidemic. Tourist zones produce more GDP but spread the epidemic faster as well.\n",
    "- `id` : Give a unique id every time you create a new instance of this intervention. \n",
    "- `intervals` : The step when this will be implemented.\n",
    "- `country` : The countries where this intervention will be implemented.\n",
    "- `tourist_zone_names` : The tourist zones where this intervention will be implemented.\n",
    "- `effect` : The ratio of the working efficiency of the tourist zone post lockdown to the normal working efficiency of the tourist zone.\n",
    "\n",
    "**<span style=\"color:red;\">NOTE</span>** : \n",
    "- `country`, `tourist_zone_names`, and `effect` have to be in order and should be of the same length. If you want to assign multiple tourist zones of a country to the intervention, you can do it like this:\n",
    "  ```python\n",
    "  intervals={stepx},\n",
    "  country=[\"India\", \"China\"],\n",
    "  tourist_zone_names=[\"Taj Mahal\", \"Yu Garden\"],\n",
    "  effect=[0.4, 0.1],\n",
    "- ⚠️ This intervention starts **<span style=\"color:lightgreen;\">ALIVE</span>** and will die after changing the parameters. Spawn a new intervention of this kind when you need the values back to original."
   ]
  },
  {
   "cell_type": "code",
   "execution_count": 19,
   "metadata": {},
   "outputs": [
    {
     "name": "stderr",
     "output_type": "stream",
     "text": [
      "2024-04-20 19:19:49 - V1 | FireflyV1 | EPIDEMIC2.0_ADITYA_PRAKASH_B20001 - INFO -  >> 📝 PSC updated | Process: trzec-0, Timeline: [[100, 100], [6002, 6002]].\n",
      "2024-04-20 19:19:49 - V1 | FireflyV1 | EPIDEMIC2.0_ADITYA_PRAKASH_B20001 - INFO -  >> 📝 Process registered | Process: trzec-0.\n"
     ]
    }
   ],
   "source": [
    "epidemic_two_engine.intervene(\n",
    "    alias=\"trzec\",\n",
    "    process_id=\"trzec-0\",\n",
    "    intervals={100},\n",
    "    country=[\"India\", \"China\"],\n",
    "    tourist_zone_names=[\"Taj Mahal\", \"Yu Garden\"],\n",
    "    effect=[0.5, 0.5],\n",
    ")"
   ]
  },
  {
   "cell_type": "markdown",
   "metadata": {},
   "source": [
    "#### **🛬 Airport Zone Lockdown Intervention**  \n",
    "\n",
    "The following cell will implement the Airport Lockdown Intervention 🛬. It will lockdown airports which will lower GDP replenishment but also reduce the spread of the epidemic. \n",
    "- `id` : Give a unique id every time you create a new instance of this intervention. \n",
    "- `intervals` : The step when this will be implemented.\n",
    "- `country` : The countries where this intervention will be implemented.\n",
    "- `airport_names` : The airports where this intervention will be implemented.\n",
    "- `effect` : The ratio of the working efficiency of the airports post lockdown to the normal working efficiency of the airports.\n",
    "\n",
    "**<span style=\"color:red;\">NOTE</span>** : \n",
    "- `country`, `airport_names`, and `effect` have to be in order and should be of the same length. If you want to assign multiple airports of a country to the intervention, you can do it like this:\n",
    "  ```python\n",
    "  intervals={stepx},\n",
    "  country=[\"India\", \"China\"],\n",
    "  airport_names=[\"Indira Gandhi International Airport\", \"Shanghai Hongqiao International Airport\"],\n",
    "  effect=[0.4, 0.1],\n",
    "- ⚠️ This intervention starts **<span style=\"color:lightgreen;\">ALIVE</span>** and will die after changing the parameters. Spawn a new intervention of this kind when you need the values back to original."
   ]
  },
  {
   "cell_type": "code",
   "execution_count": 20,
   "metadata": {},
   "outputs": [
    {
     "name": "stderr",
     "output_type": "stream",
     "text": [
      "2024-04-20 19:19:54 - V1 | FireflyV1 | EPIDEMIC2.0_ADITYA_PRAKASH_B20001 - INFO -  >> 📝 PSC updated | Process: airec-0, Timeline: [[100, 100], [6002, 6002]].\n",
      "2024-04-20 19:19:54 - V1 | FireflyV1 | EPIDEMIC2.0_ADITYA_PRAKASH_B20001 - INFO -  >> 📝 Process registered | Process: airec-0.\n"
     ]
    }
   ],
   "source": [
    "epidemic_two_engine.intervene(\n",
    "    alias=\"airec\",\n",
    "    process_id=\"airec-0\",\n",
    "    intervals={100},\n",
    "    country=[\"India\", \"China\"],\n",
    "    airport_names=[\n",
    "        \"Indira Gandhi International Airport\",\n",
    "        \"Shanghai Hongqiao International Airport\",\n",
    "    ],\n",
    "    effect=[0.5, 0.5],\n",
    ")"
   ]
  },
  {
   "cell_type": "markdown",
   "metadata": {},
   "source": [
    "#### **🚢 Airport Zone Lockdown Intervention**  \n",
    "\n",
    "The following cell will implement the Port Lockdown Intervention 🚢. It will lockdown ports which will lower GDP replenishment but also reduce the spread of the epidemic. \n",
    "- `id` : Give a unique id every time you create a new instance of this intervention. \n",
    "- `intervals` : The step when this will be implemented.\n",
    "- `country` : The countries where this intervention will be implemented.\n",
    "- `port_names` : The ports where this intervention will be implemented.\n",
    "- `effect` : The ratio of the working efficiency of the ports post lockdown to the normal working efficiency of the ports.\n",
    "\n",
    "**<span style=\"color:red;\">NOTE</span>** : \n",
    "- `country`, `port_names`, and `effect` have to be in order and should be of the same length. If you want to assign multiple ports of a country to the intervention, you can do it like this:\n",
    "  ```python\n",
    "  intervals={stepx},\n",
    "  country=[\"India\", \"China\"],\n",
    "  port_names=[\"Indira Gandhi International Airport\", \"Shanghai Hongqiao International Airport\"],\n",
    "  effect=[0.4, 0.1],\n",
    "- ⚠️ This intervention starts **<span style=\"color:lightgreen;\">ALIVE</span>** and will die after changing the parameters. Spawn a new intervention of this kind when you need the values back to original."
   ]
  },
  {
   "cell_type": "code",
   "execution_count": 21,
   "metadata": {},
   "outputs": [
    {
     "name": "stderr",
     "output_type": "stream",
     "text": [
      "2024-04-20 19:19:57 - V1 | FireflyV1 | EPIDEMIC2.0_ADITYA_PRAKASH_B20001 - INFO -  >> 📝 PSC updated | Process: porec-0, Timeline: [[100, 100], [6002, 6002]].\n",
      "2024-04-20 19:19:57 - V1 | FireflyV1 | EPIDEMIC2.0_ADITYA_PRAKASH_B20001 - INFO -  >> 📝 Process registered | Process: porec-0.\n"
     ]
    }
   ],
   "source": [
    "epidemic_two_engine.intervene(\n",
    "    alias=\"porec\",\n",
    "    process_id=\"porec-0\",\n",
    "    intervals={100},\n",
    "    country=[\"India\", \"China\"],\n",
    "    port_names=[\n",
    "        \"Cochin Port\",\n",
    "        \"Port of Shanghai\",\n",
    "    ],\n",
    "    effect=[0.5, 0.5],\n",
    ")"
   ]
  },
  {
   "cell_type": "markdown",
   "metadata": {},
   "source": [
    "#### **🧪 Vaccine Intervention**  \n",
    "\n",
    "The following cell will implement the Vaccine Intervention 🧪. It will vaccinate a ratio of people and incurs cost on GDP and Health Resource Stockpile.\n",
    "- `id` : Give a unique id every time you create a new instance of this intervention. \n",
    "- `intervals` : The intervals when this intervention will be active.\n",
    "- `country` : The countries where this intervention will be implemented.\n",
    "- `state` : The states where this intervention will be implemented.\n",
    "- `percent_infected_vaccinated` : The ratio of infected people who will be vaccinated.\n",
    "\n",
    "**<span style=\"color:red;\">NOTE</span>** : \n",
    "- `country`, `state`, and `percent_infected_vaccinated` have to be in order and should be of the same length. If you want to assign multiple states of a country to the intervention, you can do it like this:\n",
    "  ```python\n",
    "  intervals=[[start1, end1], [start2, end2], ...],\n",
    "  country=[\"India\", \"China\"],\n",
    "  state=[\"Maharashtra\", \"Hubei\"],\n",
    "  percent_infected_vaccinated=[0.4, 0.1] ,\n",
    "- ⚠️ This intervention starts **<span style=\"color:orange;\">DORMANT</span>**, you can assign **<span style=\"color:purple;\">None</span>** but you'd have to update process status chart when you need it to be active.\n",
    "- ⚠️ It will keep on vaccinating `percent_infected_vaccinated` ratio of the people each step, so don't schedule it for more step than it takes to vaccinate everyone."
   ]
  },
  {
   "cell_type": "code",
   "execution_count": 22,
   "metadata": {},
   "outputs": [
    {
     "name": "stderr",
     "output_type": "stream",
     "text": [
      "2024-04-20 19:20:00 - V1 | FireflyV1 | EPIDEMIC2.0_ADITYA_PRAKASH_B20001 - INFO -  >> 📝 PSC updated | Process: mvacp-0, Timeline: [[100, 105], [6002, 6002]].\n",
      "2024-04-20 19:20:00 - V1 | FireflyV1 | EPIDEMIC2.0_ADITYA_PRAKASH_B20001 - INFO -  >> 📝 Process registered | Process: mvacp-0.\n"
     ]
    }
   ],
   "source": [
    "epidemic_two_engine.intervene(\n",
    "    alias=\"mvacp\",\n",
    "    process_id=\"mvacp-0\",\n",
    "    intervals=[[100, 105]],\n",
    "    country=[\"India\", \"China\"],\n",
    "    state=[\"Maharashtra\", \"Hubei\"],\n",
    "    percent_infected_vaccinated=[0.1, 0.1],\n",
    ")"
   ]
  },
  {
   "cell_type": "markdown",
   "metadata": {},
   "source": [
    "#### **🏥 General Hospital Building Intervention**  \n",
    "\n",
    "The following cell will implement the General Hospital Building Intervention 🏥. It will build a number of hospitals across various loci\n",
    "and incurs cost on GDP and Healthcare Resource Stockpile.\n",
    "- `id` : Give a unique id every time you create a new instance of this intervention. \n",
    "- `intervals` : The step at which this intervention will be implemented.\n",
    "- `country` : The countries where this intervention will be implemented.\n",
    "- `state` : The states where this intervention will be implemented.\n",
    "- `num_hospitals` : The number of hospitals to be built.\n",
    "\n",
    "**<span style=\"color:red;\">NOTE</span>** : \n",
    "- `country`, `state`, and `num_hospitals` have to be in order and should be of the same length. If you want to assign multiple states of a country to the intervention, you can do it like this:\n",
    "  ```python\n",
    "  intervals={stepx},\n",
    "  country=[\"India\", \"China\"],\n",
    "  state=[\"Maharashtra\", \"Hubei\"],\n",
    "  num_hospitals=[3, 4], # int\n",
    "- ⚠️ This intervention starts **<span style=\"color:lightgreen;\">ALIVE</span>**, and will die after changing the parameters."
   ]
  },
  {
   "cell_type": "code",
   "execution_count": 23,
   "metadata": {},
   "outputs": [
    {
     "name": "stderr",
     "output_type": "stream",
     "text": [
      "2024-04-20 19:20:02 - V1 | FireflyV1 | EPIDEMIC2.0_ADITYA_PRAKASH_B20001 - INFO -  >> 📝 PSC updated | Process: ghobp-0, Timeline: [[100, 100], [6002, 6002]].\n",
      "2024-04-20 19:20:02 - V1 | FireflyV1 | EPIDEMIC2.0_ADITYA_PRAKASH_B20001 - INFO -  >> 📝 Process registered | Process: ghobp-0.\n"
     ]
    }
   ],
   "source": [
    "epidemic_two_engine.intervene(\n",
    "    alias=\"ghobp\",\n",
    "    process_id=\"ghobp-0\",\n",
    "    intervals={100},\n",
    "    country=[\"India\", \"China\"],\n",
    "    state=[\"Maharashtra\", \"Hubei\"],\n",
    "    num_hospitals=[3, 1],\n",
    ")"
   ]
  }
 ],
 "metadata": {
  "kernelspec": {
   "display_name": "base",
   "language": "python",
   "name": "python3"
  },
  "language_info": {
   "codemirror_mode": {
    "name": "ipython",
    "version": 3
   },
   "file_extension": ".py",
   "mimetype": "text/x-python",
   "name": "python",
   "nbconvert_exporter": "python",
   "pygments_lexer": "ipython3",
   "version": "3.12.2"
  }
 },
 "nbformat": 4,
 "nbformat_minor": 2
}
